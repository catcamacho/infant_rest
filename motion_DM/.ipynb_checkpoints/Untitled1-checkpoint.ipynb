{
 "cells": [
  {
   "cell_type": "code",
   "execution_count": null,
   "metadata": {},
   "outputs": [],
   "source": [
    "def org_shared_noise(motion_files, mean_func_components):\n",
    "    from nipype import config, logging\n",
    "    config.enable_debug_mode()\n",
    "    logging.update_logging(config)\n",
    "    from numpy import genfromtxt, concatenate\n",
    "    \n",
    "    noise_list = []\n",
    "    for file in motion files:\n",
    "        with open(file) as f:\n",
    "            mo = genfromtxt(file,dtype=float)\n",
    "            length_of_file = mo.shape[0]\n",
    "            noise_list.append(mo)\n",
    "    \n",
    "    mean_func_noise = genfromtxt(mean_func_components)\n",
    "    mean_func_noise_trim = mean_func_noise[:length_of_file,:]\n",
    "    shared_noise_data = concatenate(noise_list+mean_func_noise_trim,axis=1)\n",
    "    \n",
    "    \n",
    "    return(shared_noise)\n",
    "\n",
    "def voxelwise_glm(func,shared_noise,voxel_wise_noise,mask):\n",
    "    from nipype import config, logging\n",
    "    config.enable_debug_mode()\n",
    "    logging.update_logging(config)\n",
    "    from os.path import abspath\n",
    "    from glm.glm import GLM\n",
    "    from glm.families import Gaussian\n",
    "    linear_model=GLM(family=Gaussian())\n",
    "    \n",
    "    \n",
    "    return(beta_weights,sample_design_mat,denoised_func)"
   ]
  },
  {
   "cell_type": "code",
   "execution_count": null,
   "metadata": {},
   "outputs": [],
   "source": [
    "func_template = {'func':output_dir + '/registered_func/%s/*/rest*.nii.gz'}\n",
    "selectfunc = Node(DataGrabber(sort_filelist=True,\n",
    "                              template = output_dir + '/registered_func/%s/*/rest*.nii.gz',\n",
    "                              field_template = func_template,\n",
    "                              base_directory=output_dir,\n",
    "                              infields=['subject_id'], \n",
    "                              template_args={'func':[['subject_id']]}), name='selectfunc')\n",
    "\n",
    "means_template={'mean_func':, \n",
    "                'mean_func_components':}\n",
    "select_mean_noise = Node(SelectFiles(means_template), name='select_mean_noise')\n",
    "\n",
    "sub_noise_template={'leadlagmotion': , \n",
    "                    'leadlagderivsmotion': , \n",
    "                    'leadlagderivs_squaremotion': , \n",
    "                    'motion': }\n",
    "select_sub_noise_files=Node(DataGrabber(sort_filelist=True,\n",
    "                                        field_template = sub_noise_template,\n",
    "                                        base_directory=output_dir,\n",
    "                                        infields=['subject_id'],\n",
    "                                        template_args={'leadlagmotion':[['subject_id']],\n",
    "                                                       'leadlagderivsmotion':[['subject_id']], \n",
    "                                                       'leadlagderivs_squaremotion':[['subject_id']], \n",
    "                                                       'motion':[['subject_id']]}),\n",
    "                            name='select_sub_noise_files')\n",
    "\n",
    "\n",
    "voxel_wise_noise_template={'session': , \n",
    "                           'wm_csf': }\n",
    "select_voxel_wise_noise=Node(DataGrabber())"
   ]
  },
  {
   "cell_type": "code",
   "execution_count": null,
   "metadata": {},
   "outputs": [],
   "source": [
    "func = '/Users/catcamacho/Box/SNAP/BABIES/BABIES_rest/processed/preproc/registered_func/0027/_trim0/rest_reoriented_st_mcf_flirt_flirt_trim.nii.gz'\n",
    "shared_noise = ['']\n",
    "voxel_wise_noise = ['']\n",
    "mask = '/Users/catcamacho/Box/SNAP/BABIES/templates/6mo_T2w_template_2mm_mask.nii.gz'\n",
    "\n",
    "from os.path import abspath\n",
    "from glm.glm import GLM\n",
    "from glm.families import Gaussian\n",
    "from nilearn import apply_mask, unmask\n",
    "linear_model=GLM(family=Gaussian())\n",
    "\n",
    "# import data into an array that is timpoints (rows) by voxel number (columns)\n",
    "func_data = apply_mask(func, mask)\n",
    "\n",
    "# organize nuissance into a pandas dataframe\n",
    "\n",
    "for x in func_data.shape[0]:\n",
    "    for y in func_data.shape[1]:\n",
    "        "
   ]
  }
 ],
 "metadata": {
  "kernelspec": {
   "display_name": "Python 3",
   "language": "python",
   "name": "python3"
  },
  "language_info": {
   "codemirror_mode": {
    "name": "ipython",
    "version": 3
   },
   "file_extension": ".py",
   "mimetype": "text/x-python",
   "name": "python",
   "nbconvert_exporter": "python",
   "pygments_lexer": "ipython3",
   "version": "3.7.2"
  }
 },
 "nbformat": 4,
 "nbformat_minor": 2
}
