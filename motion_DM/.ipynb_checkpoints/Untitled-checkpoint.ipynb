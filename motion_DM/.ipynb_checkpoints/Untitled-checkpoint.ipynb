{
 "cells": [
  {
   "cell_type": "code",
   "execution_count": 9,
   "metadata": {},
   "outputs": [],
   "source": [
    "motion_file = '/home/camachocm2/Analysis/SNAP/processed/preproc/motion_parameters/0010/_realign0/rest_moco.nii.gz.par'\n",
    "\n",
    "from nipype import config, logging\n",
    "config.enable_debug_mode()\n",
    "logging.update_logging(config)\n",
    "from os.path import abspath\n",
    "import numpy as np\n",
    "\n",
    "motion_params = np.loadtxt(motion_file, dtype=float)\n",
    "trs = motion_params.shape[0]\n",
    "params = motion_params.shape[1]\n",
    "\n",
    "leadlag = np.zeros((trs,params*6))\n",
    "derivatives = np.gradient(motion_params, axis=0)\n",
    "leadlagderivs = np.zeros((trs,params*6))\n",
    "derivativessq = derivatives**2\n",
    "leadlagderivssq = np.zeros((trs,params*6))\n",
    "\n",
    "for i in range(0,params):\n",
    "    for j in range(0,6):\n",
    "        leadlag[:,(i*j)+j] =  np.roll(motion_params[:,i],shift=j, axis=0)\n",
    "        leadlag[:j,(i*j)+j] = 0\n",
    "\n",
    "for i in range(0,params):\n",
    "    for j in range(0,6):\n",
    "        leadlagderivs[:,(i*j)+j] =  np.roll(derivatives[:,i],shift=j, axis=0)\n",
    "        leadlagderivs[:j,(i*j)+j] = 0\n",
    "\n",
    "for i in range(0,params):\n",
    "    for j in range(0,6):\n",
    "        leadlagderivssq[:,(i*j)+j] =  np.roll(derivativessq[:,i],shift=j, axis=0)\n",
    "        leadlagderivssq[:j,(i*j)+j] = 0\n",
    "\n",
    "np.savetxt('leadlag.txt', leadlag)\n",
    "#np.savetxt('derivsleadlag.txt', leadlagderivs)\n",
    "#np.savetxt('derivssqleadlag.txt', leadlagderivssq)\n",
    "\n",
    "#leadlagmot = abspath('leadlag.txt')\n",
    "#leadlagderivsmot = abspath('derivsleadlag.txt')\n",
    "#leadlagderivssqmot = abspath('derivssqleadlag.txt')\n"
   ]
  },
  {
   "cell_type": "code",
   "execution_count": 2,
   "metadata": {},
   "outputs": [
    {
     "data": {
      "text/plain": [
       "array([[-0.500441  ,  0.        ,  0.        , ...,  0.        ,\n",
       "         0.        ,  0.        ],\n",
       "       [-0.551284  , -0.0193561 , -0.0065125 , ...,  0.        ,\n",
       "         0.        ,  0.        ],\n",
       "       [-0.28656   , -0.0198041 , -0.00826891, ...,  0.        ,\n",
       "         0.        ,  0.        ],\n",
       "       ...,\n",
       "       [ 0.219663  , -0.00463937,  0.00111003, ...,  0.        ,\n",
       "         0.        ,  0.        ],\n",
       "       [ 0.233412  , -0.00468214,  0.0007646 , ...,  0.        ,\n",
       "         0.        ,  0.        ],\n",
       "       [ 0.229971  , -0.00498047,  0.00088221, ...,  0.        ,\n",
       "         0.        ,  0.        ]])"
      ]
     },
     "execution_count": 2,
     "metadata": {},
     "output_type": "execute_result"
    }
   ],
   "source": [
    "leadlag"
   ]
  }
 ],
 "metadata": {
  "kernelspec": {
   "display_name": "Python 3",
   "language": "python",
   "name": "python3"
  },
  "language_info": {
   "codemirror_mode": {
    "name": "ipython",
    "version": 3
   },
   "file_extension": ".py",
   "mimetype": "text/x-python",
   "name": "python",
   "nbconvert_exporter": "python",
   "pygments_lexer": "ipython3",
   "version": "3.5.2"
  }
 },
 "nbformat": 4,
 "nbformat_minor": 2
}
