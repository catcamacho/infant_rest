{
 "cells": [
  {
   "cell_type": "code",
   "execution_count": null,
   "metadata": {
    "collapsed": true
   },
   "outputs": [],
   "source": [
    "#import packages\n",
    "from os import listdir\n",
    "from nipype.interfaces.io import DataSink, SelectFiles # Data i/o\n",
    "from nipype.interfaces.utility import IdentityInterface, Function     # utility\n",
    "from nipype.pipeline.engine import Node, Workflow, JoinNode        # pypeline engine\n",
    "\n",
    "from nipype.interfaces.fsl.model import Randomise, GLM, Cluster\n",
    "from nipype.interfaces.freesurfer.model import Binarize\n",
    "from nipype.interfaces.fsl.utils import ImageMeants, Merge\n",
    "\n",
    "#set output file type for FSL to NIFTI\n",
    "from nipype.interfaces.fsl.preprocess import FSLCommand\n",
    "FSLCommand.set_default_output_type('NIFTI')\n",
    "\n",
    "# MATLAB setup - Specify path to current SPM and the MATLAB's default mode\n",
    "from nipype.interfaces.matlab import MatlabCommand\n",
    "MatlabCommand.set_default_paths('~/spm12')\n",
    "MatlabCommand.set_default_matlab_cmd(\"matlab -nodesktop -nosplash\")\n",
    "\n",
    "# Set study variables\n",
    "studyhome = '/Users/catcamacho/Box/BABIES'\n",
    "raw_data = studyhome + '/raw'\n",
    "preproc_dir = studyhome + '/processed/preproc'\n",
    "output_dir = studyhome + '/processed/analysis'\n",
    "workflow_dir = studyhome + '/workflows'\n",
    "roi_dir = studyhome + '/ROIs'\n",
    "\n",
    "subjects_list = ['021-BABIES-T1','033x-BABIES-T1'] #listdir(raw_data)\n",
    "template_brain = studyhome + '/templates/T2w_BABIES_template_2mm.nii'\n",
    "\n",
    "# ROIs for connectivity analysis\n",
    "Lamyg = roi_dir + '/Lamyg_4mm.nii'\n",
    "Ramyg = roi_dir + '/Ramyg_4mm.nii'\n",
    "roi_files = [roi_dir + '/L_amyg_4mm.nii',roi_dir + '/R_amyg_4mm.nii']\n",
    "\n",
    "ROIs = [Lamyg, Ramyg]\n"
   ]
  },
  {
   "cell_type": "code",
   "execution_count": null,
   "metadata": {
    "collapsed": false
   },
   "outputs": [],
   "source": [
    "## File handling\n",
    "# Identity node- select subjects\n",
    "infosource = Node(IdentityInterface(fields=['subject_id']),\n",
    "                     name='infosource')\n",
    "infosource.iterables = ('subject_id', subjects_list)\n",
    "\n",
    "\n",
    "# Data grabber- select fMRI and ROIs\n",
    "templates = {'filt_func': output_dir + '/bp_filtered_func/_subject_id_{subject_id}/func_filtered.nii',\n",
    "             'orig_func': output_dir + '/denoised_func/_subject_id_{subject_id}/denoised_func.nii', \n",
    "             'rois':ROIs}\n",
    "selectfiles = Node(SelectFiles(templates), name='selectfiles')\n",
    "\n",
    "# Datasink- where our select outputs will go\n",
    "datasink = Node(DataSink(), name='datasink')\n",
    "datasink.inputs.base_directory = output_dir\n",
    "datasink.inputs.container = output_dir"
   ]
  },
  {
   "cell_type": "code",
   "execution_count": null,
   "metadata": {
    "collapsed": true
   },
   "outputs": [],
   "source": [
    "## Seed-based level 1\n",
    "\n",
    "# Extract ROI timeseries\n",
    "def pulltimeseries(roimask,func):\n",
    "    from nipype import config, logging\n",
    "    config.enable_debug_mode()\n",
    "    logging.update_logging(config)\n",
    "    from nipype.interfaces.fsl.maths import ApplyMask\n",
    "    from nibabel import load\n",
    "    from numpy import mean, std, savetxt\n",
    "    from os import path\n",
    "    \n",
    "    roimaskfile = path.basename(roimask)\n",
    "    roimaskname = roimaskfile.replace('.nii','')\n",
    "    datapath = path.dirname(func)\n",
    "    subID = datapath[-3:]\n",
    "    \n",
    "    roi = 'roi.nii'\n",
    "    am = ApplyMask()\n",
    "    am.inputs.mask_file = roimask\n",
    "    am.inputs.in_file = func\n",
    "    am.inputs.out_file = roi\n",
    "    am.run()\n",
    "\n",
    "    subnifti = load(roi)\n",
    "    subdata = subnifti.get_data()\n",
    "    roitimeseries = mean(subdata,axis=3)\n",
    "    \n",
    "    roitextfile = roimaskname + '_' + subID + '_timeseries.txt'\n",
    "    savetxt(roitextfile, roitimeseries, delimiter=' ')\n",
    "    roi_ts = path.abspath(roitextfile)\n",
    "    return(roi_ts)\n",
    "        \n",
    "pullROItimeseries = Node(name='pullROItimeseries',\n",
    "                         interface=Function(input_names=['roimask','func'],\n",
    "                                            output_names=['roi_ts'],\n",
    "                                            function=pulltimeseries),\n",
    "                         iterfield=['roimask'])\n",
    "\n",
    "ROI_timeseries = Node(ImageMeants(), name='ROI_timeseries', iterfield='mask')\n",
    "\n",
    "# model ROI connectivity\n",
    "glm = Node(GLM(), name='glm', iterfield='design')"
   ]
  },
  {
   "cell_type": "code",
   "execution_count": null,
   "metadata": {
    "collapsed": true
   },
   "outputs": [],
   "source": [
    "## Level 2\n",
    "\n",
    "# merge param estimates across all subjects per seed\n",
    "merge = JoinNode(Merge(dimension='t'), \n",
    "                 joinfield='in_files', \n",
    "                 joinsource='glm',\n",
    "                 iterfield='in_files',\n",
    "                 name='merge')\n",
    "\n",
    "# FSL randomise for higher level analysis\n",
    "highermodel = Node(Randomise(tfce=True,\n",
    "                             raw_stats_imgs= True,\n",
    "                             design_mat=group_mat),\n",
    "                   iterfield='in_file',\n",
    "                   name = 'highermodel')\n",
    "\n",
    "## Cluster results\n",
    "\n",
    "# make binary masks of sig clusters\n",
    "binarize = Node(Binarize(min=0.95, max=1.0), name='binarize')\n",
    "\n",
    "# clusterize and extract cluster stats/peaks\n",
    "clusterize = Node(Cluster(threshold=2, \n",
    "                          out_index_file=True, \n",
    "                          out_localmax_txt_file=True, \n",
    "                          out_localmax_vol_file=True,\n",
    "                          out_max_file=True), \n",
    "                  name='clusterize')\n",
    "\n",
    "# make pictures if time"
   ]
  },
  {
   "cell_type": "code",
   "execution_count": null,
   "metadata": {
    "collapsed": true
   },
   "outputs": [],
   "source": [
    "sbc_workflow = Workflow(name='sbc_workflow')\n",
    "sbc_workflow.connect([(infosource,selectfiles,[('subject_id','subject_id')]),\n",
    "                      (selectfiles,ROI_timeseries,[('orig_func','in_file')]),\n",
    "                      (selectfiles,ROI_timeseries,[('rois','mask')]),\n",
    "                      (ROI_timeseries,glm,[('out_file','design')]),\n",
    "                      (glm,merge,[('out_cope','in_files')]),\n",
    "                      (merge,highermodel,[('merged_file','in_file')]),\n",
    "                      \n",
    "                      (ROI_timeseries, datasink, [('out_file','roi_ts')]),\n",
    "                      (glm,datasink,[('out_cope','seed_copes')]),\n",
    "                      ()\n",
    "                     ])\n",
    "sbc_workflow.base_dir = workflow_dir\n",
    "sbc_workflow.write_graph(graph2use='flat')\n",
    "sbc_workflow.run('MultiProc', plugin_args={'n_procs': proc_cores})"
   ]
  }
 ],
 "metadata": {
  "kernelspec": {
   "display_name": "Python 2",
   "language": "python",
   "name": "python2"
  },
  "language_info": {
   "codemirror_mode": {
    "name": "ipython",
    "version": 2
   },
   "file_extension": ".py",
   "mimetype": "text/x-python",
   "name": "python",
   "nbconvert_exporter": "python",
   "pygments_lexer": "ipython2",
   "version": "2.7.11"
  }
 },
 "nbformat": 4,
 "nbformat_minor": 2
}
