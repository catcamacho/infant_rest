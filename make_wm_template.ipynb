{
 "cells": [
  {
   "cell_type": "markdown",
   "metadata": {},
   "source": [
    "### Template tissue creator\n",
    "This notebook is designed to create tissue map templates from the segmented infant data. "
   ]
  },
  {
   "cell_type": "code",
   "execution_count": null,
   "metadata": {},
   "outputs": [],
   "source": [
    "#import packages\n",
    "from os import listdir\n",
    "from nipype.interfaces.io import DataSink, SelectFiles, DataGrabber # Data i/o\n",
    "from nipype.interfaces.utility import IdentityInterface, Function     # utility\n",
    "from nipype.pipeline.engine import Node, Workflow, MapNode\n",
    "from nipype.interfaces.fsl.preprocess import FLIRT\n",
    "from nipype.interfaces.fsl.maths import MeanImage\n",
    "from nipype.interfaces.fsl.utils import Merge\n",
    "\n",
    "#set output file type for FSL to NIFTI\n",
    "from nipype.interfaces.fsl.preprocess import FSLCommand\n",
    "FSLCommand.set_default_output_type('NIFTI')\n",
    "\n",
    "# Set study variables\n",
    "studyhome = '/Users/catcamacho/Box/SNAP/BABIES'\n",
    "#studyhome = '/share/iang/active/BABIES/BABIES_rest'\n",
    "raw_data = '/Users/catcamacho/Box/SNAP/BABIES/seg_temp/BABIES_C'\n",
    "output_dir = studyhome + '/processed/template'\n",
    "workflow_dir = studyhome + '/workflows'\n",
    "subjects_list = open(studyhome + '/misc/templatesubjects.txt').read().splitlines()\n",
    "\n",
    "template_brain = studyhome + '/templates/T2w_BABIES_template_2mm.nii'\n",
    "\n",
    "proc_cores = 2 # number of cores of processing for the workflows\n",
    "\n",
    "tissue_list=['wm','gm']"
   ]
  },
  {
   "cell_type": "code",
   "execution_count": null,
   "metadata": {},
   "outputs": [],
   "source": [
    "# Identity node- select subjects\n",
    "infosource = Node(IdentityInterface(fields=['subj']),\n",
    "                     name=\"infosource\")\n",
    "infosource.iterables = ('subj', subjects_list)\n",
    "\n",
    "# Data grabber- select gm/wm\n",
    "templates = {'struct': raw_data + '/T1{subj}/T1{subj}-5/skullstripped_anat.nii',\n",
    "             'seg': raw_data + '/T1{subj}/T1{subj}-5/seg.nii'}\n",
    "selectfiles = Node(SelectFiles(templates), name='selectfiles')\n",
    "\n",
    "# Datasink- where our select outputs will go\n",
    "substitutions = [('_subj_', '')]\n",
    "datasink = Node(DataSink(), name='datasink')\n",
    "datasink.inputs.base_directory = output_dir\n",
    "datasink.inputs.container = output_dir\n",
    "datasink.inputs.substitutions = substitutions"
   ]
  },
  {
   "cell_type": "code",
   "execution_count": null,
   "metadata": {},
   "outputs": [],
   "source": [
    "def split_tissues(in_tissues):\n",
    "    from nipype import config, logging\n",
    "    config.enable_debug_mode()\n",
    "    logging.update_logging(config)\n",
    "    from os.path import abspath\n",
    "    from nibabel import load, save, Nifti1Image\n",
    "    \n",
    "    segmentation_nifti = load(in_tissues)\n",
    "    segmentation_data = segmentation_nifti.get_data()\n",
    "\n",
    "    tissue_data = segmentation_data\n",
    "    tissue_data[tissue_data==150] = 1\n",
    "    tissue_data[tissue_data==10] = 0\n",
    "    tissue_data[tissue_data==250] = 0\n",
    "    tissue_nifti = Nifti1Image(tissue_data, segmentation_nifti.affine)\n",
    "    save(tissue_nifti, 'gm.nii')\n",
    "    tissue_file = abspath('gm.nii')\n",
    "    \n",
    "    out_tissues=[tissue_file]\n",
    "    \n",
    "    return(out_tissues)\n",
    "\n",
    "split_tissues = Node(Function(input_names=['in_tissues'], \n",
    "                              output_names=['out_tissues'], \n",
    "                              function=split_tissues), \n",
    "                     name='split_tissues')\n",
    "\n",
    "register_anat = Node(FLIRT(reference=template_brain, \n",
    "                           out_matrix_file='xform.mat'), \n",
    "                     name='register_anat')\n",
    "\n",
    "register_seg = MapNode(FLIRT(reference=template_brain,\n",
    "                             apply_xfm=True),\n",
    "                       name='register_seg', \n",
    "                       iterfield=['in_file'])\n",
    "\n"
   ]
  },
  {
   "cell_type": "code",
   "execution_count": null,
   "metadata": {
    "scrolled": true
   },
   "outputs": [],
   "source": [
    "templatetissue = Workflow(name='templatetissue')\n",
    "templatetissue.connect([(infosource, selectfiles,[('subj','subj')]),\n",
    "                        (selectfiles, register_anat,[('struct','in_file')]),\n",
    "                        (selectfiles, split_tissues,[('seg','in_tissues')]),\n",
    "                        (register_anat, register_seg, [('out_matrix_file','in_matrix_file')]),\n",
    "                        (split_tissues, register_seg, [('out_tissues','in_file')]),\n",
    "                        (register_anat, datasink, [('out_file','reg_anat')]),\n",
    "                        (register_seg, datasink, [('out_file','reg_gm')])\n",
    "                       ])\n",
    "templatetissue.base_dir = workflow_dir\n",
    "templatetissue.write_graph(graph2use='flat')\n",
    "templatetissue.run('MultiProc', plugin_args={'n_procs': proc_cores})"
   ]
  },
  {
   "cell_type": "code",
   "execution_count": null,
   "metadata": {},
   "outputs": [],
   "source": [
    "tissueinfo = Node(IdentityInterface(fields=['tissue']),\n",
    "                     name='tissueinfo')\n",
    "tissueinfo.iterables = ('tissue', tissue_list)\n",
    "\n",
    "select_tissue = Node(DataGrabber(infields=['tissue'], \n",
    "                                 base_directory=output_dir, \n",
    "                                 sort_filelist=True,\n",
    "                                 template=output_dir+'/*/*/*/%s*.nii',\n",
    "                                 field_template={'tissue_data':output_dir +'/*/*/*/%s*.nii'},\n",
    "                                 template_args = dict(tissue_data=[['tissue']])),\n",
    "                     name='select_tissue')"
   ]
  },
  {
   "cell_type": "code",
   "execution_count": null,
   "metadata": {},
   "outputs": [],
   "source": [
    "merge_image = Node(Merge(dimension='t'), \n",
    "                   name='merge_image')\n",
    "\n",
    "average_image = Node(MeanImage(), \n",
    "                     name='average_image')"
   ]
  },
  {
   "cell_type": "code",
   "execution_count": null,
   "metadata": {
    "scrolled": true
   },
   "outputs": [],
   "source": [
    "group_tissue = Workflow(name='group_tissue')\n",
    "group_tissue.connect([(tissueinfo, select_tissue, [('tissue','tissue')]),\n",
    "                      (select_tissue, merge_image, [('tissue_data','in_files')]),\n",
    "                      (merge_image, average_image, [('merged_file','in_file')]),\n",
    "                      (average_image, datasink, [('out_file','average_tissue')])\n",
    "                     ])\n",
    "group_tissue.base_dir = workflow_dir\n",
    "group_tissue.write_graph(graph2use='flat')\n",
    "group_tissue.run('MultiProc', plugin_args={'n_procs': proc_cores})"
   ]
  },
  {
   "cell_type": "code",
   "execution_count": null,
   "metadata": {},
   "outputs": [],
   "source": []
  }
 ],
 "metadata": {
  "kernelspec": {
   "display_name": "Python 3",
   "language": "python",
   "name": "python3"
  },
  "language_info": {
   "codemirror_mode": {
    "name": "ipython",
    "version": 3
   },
   "file_extension": ".py",
   "mimetype": "text/x-python",
   "name": "python",
   "nbconvert_exporter": "python",
   "pygments_lexer": "ipython3",
   "version": "3.6.3"
  }
 },
 "nbformat": 4,
 "nbformat_minor": 2
}
