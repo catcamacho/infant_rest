{
 "cells": [
  {
   "cell_type": "code",
   "execution_count": null,
   "metadata": {
    "collapsed": true
   },
   "outputs": [],
   "source": [
    "#import packages\n",
    "from nipype.interfaces.io import DataSink, SelectFiles, DataGrabber # Data i/o\n",
    "from nipype.interfaces.utility import IdentityInterface, Function     # utility\n",
    "from nipype.pipeline.engine import Node, Workflow, JoinNode,MapNode      # pypeline engine\n",
    "\n",
    "from nipype.interfaces.fsl.model import Randomise, GLM, Cluster\n",
    "from nipype.interfaces.freesurfer.model import Binarize\n",
    "from nipype.interfaces.fsl.utils import ImageMeants, Merge, Split\n",
    "from nipype.interfaces.fsl.maths import ApplyMask\n",
    "\n",
    "#set output file type for FSL to NIFTI\n",
    "from nipype.interfaces.fsl.preprocess import FSLCommand\n",
    "FSLCommand.set_default_output_type('NIFTI_GZ')\n",
    "\n",
    "# MATLAB setup - Specify path to current SPM and the MATLAB's default mode\n",
    "from nipype.interfaces.matlab import MatlabCommand\n",
    "MatlabCommand.set_default_paths('~/spm12')\n",
    "MatlabCommand.set_default_matlab_cmd(\"matlab -nodesktop -nosplash\")\n",
    "\n",
    "# Set study variables\n",
    "studyhome = '/Users/catcamacho/Box/SNAP/BABIES'\n",
    "#studyhome = '/Volumes/iang/active/BABIES/BABIES_rest'\n",
    "raw_data = studyhome + '/raw'\n",
    "preproc_dir = studyhome + '/processed/preproc'\n",
    "output_dir = studyhome + '/processed/sbc_analysis'\n",
    "workflow_dir = studyhome + '/workflows'\n",
    "roi_dir = studyhome + '/ROIs'\n",
    "group_con = studyhome + '/rest_misc/tcon.con'\n",
    "group_mat = studyhome + '/rest_misc/design.mat'\n",
    "proc_cores = 2\n",
    "\n",
    "#subjects_list = ['021-BABIES-T1']\n",
    "subjects_list = open(studyhome + '/rest_misc/subjects.txt').read().splitlines()\n",
    "\n",
    "template_brain = studyhome + '/templates/T2w_BABIES_template_2mm.nii.gz'\n",
    "gm_template = studyhome + '/templates/BABIES_gm_mask_2mm.nii.gz'\n",
    "\n",
    "# ROIs for connectivity analysis\n",
    "Lamyg = roi_dir + '/L_amyg_6mm.nii.gz'\n",
    "Ramyg = roi_dir + '/R_amyg_6mm.nii.gz'\n",
    "dacc = roi_dir + '/DACC_8mm.nii.gz'\n",
    "Lantins = roi_dir + '/L_antIns_8mm.nii.gz'\n",
    "Rantins = roi_dir + '/R_antIns_8mm.nii.gz'\n",
    "vacc = roi_dir + '/VACC_6mm.nii.gz'\n",
    "\n",
    "ROIs = [Lamyg, Ramyg, dacc, Lantins, Rantins, vacc]\n",
    "rois = ['L_amyg','R_amyg','DACC','L_antIns','R_antIns','VACC']\n",
    "\n",
    "min_clust_size = 25"
   ]
  },
  {
   "cell_type": "code",
   "execution_count": null,
   "metadata": {
    "collapsed": true
   },
   "outputs": [],
   "source": [
    "## File handling\n",
    "# Identity node- select subjects\n",
    "infosource = Node(IdentityInterface(fields=['subject_id','ROIs']),\n",
    "                     name='infosource')\n",
    "infosource.iterables = [('subject_id', subjects_list),('ROIs',ROIs)]\n",
    "\n",
    "\n",
    "# Data grabber- select fMRI and ROIs\n",
    "templates = {'func': preproc_dir + '/preproc_func/{subject_id}/preproc_func.nii.gz'}\n",
    "selectfiles = Node(SelectFiles(templates), name='selectfiles')\n",
    "\n",
    "# Datasink- where our select outputs will go\n",
    "datasink = Node(DataSink(), name='datasink')\n",
    "datasink.inputs.base_directory = output_dir\n",
    "datasink.inputs.container = output_dir\n",
    "substitutions = [('_subject_id_', ''),\n",
    "                ('_ROIs_..Users..catcamacho..Box..SNAP..BABIES..ROIs..',''), \n",
    "                 ('_6mm.nii.gz','_'),('_8mm.nii.gz','_')]\n",
    "datasink.inputs.substitutions = substitutions"
   ]
  },
  {
   "cell_type": "code",
   "execution_count": null,
   "metadata": {
    "collapsed": true
   },
   "outputs": [],
   "source": [
    "## Seed-based level 1\n",
    "\n",
    "# Extract ROI timeseries\n",
    "ROI_timeseries = Node(ImageMeants(), name='ROI_timeseries', iterfield='mask')\n",
    "\n",
    "# model ROI connectivity\n",
    "glm = Node(GLM(out_file='betas.nii.gz',out_cope='cope.nii.gz'), name='glm', iterfield='design')"
   ]
  },
  {
   "cell_type": "code",
   "execution_count": null,
   "metadata": {
    "scrolled": true
   },
   "outputs": [],
   "source": [
    "sbc_workflow = Workflow(name='sbc_workflow')\n",
    "sbc_workflow.connect([(infosource,selectfiles,[('subject_id','subject_id')]),\n",
    "                      (selectfiles,ROI_timeseries,[('func','in_file')]),\n",
    "                      (infosource,ROI_timeseries,[('ROIs','mask')]),\n",
    "                      (ROI_timeseries,glm,[('out_file','design')]),\n",
    "                      (selectfiles,glm,[('func','in_file')]),\n",
    "                      #(ROI_timeseries, datasink, [('out_file','roi_ts')]),\n",
    "                      #(glm,datasink,[('out_cope','glm_seed_copes')]),\n",
    "                      (glm,datasink,[('out_file','glm_betas')])\n",
    "                     ])\n",
    "sbc_workflow.base_dir = workflow_dir\n",
    "sbc_workflow.write_graph(graph2use='flat')\n",
    "sbc_workflow.run('MultiProc', plugin_args={'n_procs': proc_cores})"
   ]
  },
  {
   "cell_type": "code",
   "execution_count": null,
   "metadata": {
    "collapsed": true
   },
   "outputs": [],
   "source": [
    "infosource2 = Node(IdentityInterface(fields=['roi']),\n",
    "                   name='infosource2')\n",
    "infosource2.iterables = ('roi',rois)\n",
    "\n",
    "\n",
    "# Data grabber- select fMRI and ROIs\n",
    "templates = {'roi': 'glm_betas/%s_*/betas.nii.gz'}\n",
    "\n",
    "datagrabber = Node(DataGrabber(infields=['roi'], \n",
    "                               outfields=['roi'],\n",
    "                               sort_filelist=True,\n",
    "                               base_directory=output_dir,\n",
    "                               template='glm_betas/%s_*/betas.nii.gz',\n",
    "                               field_template=templates,\n",
    "                               template_args=dict(roi=[['roi']])),\n",
    "                   name='datagrabber')\n"
   ]
  },
  {
   "cell_type": "code",
   "execution_count": null,
   "metadata": {
    "collapsed": true
   },
   "outputs": [],
   "source": [
    "def extract_cluster_betas(cluster_index_file, sample_betas, min_clust_size, subject_ids):\n",
    "    from nipype import config, logging\n",
    "    config.enable_debug_mode()\n",
    "    logging.update_logging(config)\n",
    "    from nibabel import load, save, Nifti1Image\n",
    "    from pandas import DataFrame, Series\n",
    "    from numpy import unique, zeros_like\n",
    "    from nipype.interfaces.fsl.utils import ImageMeants\n",
    "    from os.path import abspath\n",
    "    \n",
    "    subject_ids = sorted(subject_ids)\n",
    "    sample_data = DataFrame(subject_ids, index=None, columns=['Subject'])\n",
    "    \n",
    "    cluster_nifti = load(cluster_index_file[0])\n",
    "    cluster_data = cluster_nifti.get_data()\n",
    "    clusters, cluster_sizes = unique(cluster_data, return_counts=True)\n",
    "    \n",
    "    final_clusters = clusters[cluster_sizes>=min_clust_size]\n",
    "    for clust_num in final_clusters[1:]:\n",
    "        temp = zeros_like(cluster_data)\n",
    "        temp[cluster_data==clust_num] = 1\n",
    "        temp_nii = Nifti1Image(temp,cluster_nifti.affine)\n",
    "        temp_file = 'temp_clust_mask.nii.gz'\n",
    "        save(temp_nii, temp_file)\n",
    "        \n",
    "        eb = ImageMeants()\n",
    "        eb.inputs.in_file = sample_betas\n",
    "        eb.inputs.mask = temp_file\n",
    "        eb.inputs.out_file = 'betas.txt'\n",
    "        eb.run()\n",
    "        betas = open('betas.txt').read().splitlines()\n",
    "        sample_data['clust' + str(clust_num)] = Series(betas, index=sample_data.index)\n",
    "    \n",
    "    sample_data.to_csv('extracted_betas.csv')\n",
    "    extracted_betas_csv = abspath('extracted_betas.csv')\n",
    "    return(extracted_betas_csv)\n"
   ]
  },
  {
   "cell_type": "code",
   "execution_count": null,
   "metadata": {
    "collapsed": true
   },
   "outputs": [],
   "source": [
    "## Level 2\n",
    "\n",
    "# merge param estimates across all subjects per seed\n",
    "merge = Node(Merge(dimension='t'),\n",
    "             name='merge')\n",
    "\n",
    "# FSL randomise for higher level analysis\n",
    "highermodel = Node(Randomise(tfce=True,\n",
    "                             raw_stats_imgs= True,\n",
    "                             design_mat=group_mat,\n",
    "                             mask=gm_template,\n",
    "                             tcon=group_con),\n",
    "                   name = 'highermodel')\n",
    "\n",
    "## Cluster results\n",
    "# make binary masks of sig clusters\n",
    "binarize = MapNode(Binarize(min=0.99, max=1.0), \n",
    "                   name='binarize', \n",
    "                   iterfield=['in_file'])\n",
    "\n",
    "# mask T-map before clustering\n",
    "mask_tmaps = MapNode(ApplyMask(), \n",
    "                     name='mask_tmaps',\n",
    "                     iterfield=['in_file','mask_file'])\n",
    "\n",
    "# clusterize and extract cluster stats/peaks\n",
    "clusterize = MapNode(Cluster(threshold=5, \n",
    "                             out_index_file='outindex.nii.gz', \n",
    "                             out_localmax_txt_file='localmax.txt'), \n",
    "                     name='clusterize',\n",
    "                     iterfield=['in_file'])\n",
    "\n",
    "extract_betas = Node(Function(input_names=['cluster_index_file','sample_betas','min_clust_size','subject_ids'],\n",
    "                              output_names=['extracted_betas_csv'],\n",
    "                              function=extract_cluster_betas),\n",
    "                     name='extract_betas')\n",
    "extract_betas.inputs.min_clust_size = min_clust_size\n",
    "extract_betas.inputs.subject_ids = subjects_list\n",
    "\n"
   ]
  },
  {
   "cell_type": "code",
   "execution_count": null,
   "metadata": {
    "collapsed": true,
    "scrolled": true
   },
   "outputs": [],
   "source": [
    "group_workflow = Workflow(name='group_workflow')\n",
    "group_workflow.connect([(infosource2,datagrabber,[('roi','roi')]),\n",
    "                        (datagrabber,merge,[('roi','in_files')]),\n",
    "                        (merge,highermodel,[('merged_file','in_file')]),\n",
    "                        (highermodel, binarize, [('t_corrected_p_files','in_file')]),\n",
    "                        (binarize, mask_tmaps, [('binary_file','mask_file')]),\n",
    "                        (highermodel, mask_tmaps, [('tstat_files','in_file')]),\n",
    "                        (mask_tmaps, clusterize, [('out_file','in_file')]),\n",
    "                        (merge, extract_betas, [('merged_file','sample_betas')]),\n",
    "                        (clusterize, extract_betas, [('index_file','cluster_index_file')]),\n",
    "\n",
    "                        (highermodel,datasink,[('t_corrected_p_files','rand_corrp_files')]),\n",
    "                        (highermodel,datasink,[('tstat_files','rand_tstat_files')]),\n",
    "                        (clusterize,datasink,[('index_file','cluster_index_file')]),\n",
    "                        (clusterize,datasink,[('localmax_txt_file','localmax_txt_file')]),\n",
    "                        (merge, datasink, [('merged_file','merged_betas')]),\n",
    "                        (extract_betas, datasink, [('extracted_betas_csv','all_cluster_betas')])\n",
    "                       ])\n",
    "group_workflow.base_dir = workflow_dir\n",
    "group_workflow.write_graph(graph2use='flat')\n",
    "group_workflow.run('MultiProc', plugin_args={'n_procs': proc_cores})"
   ]
  },
  {
   "cell_type": "code",
   "execution_count": null,
   "metadata": {
    "collapsed": true
   },
   "outputs": [],
   "source": []
  }
 ],
 "metadata": {
  "kernelspec": {
   "display_name": "Python 3",
   "language": "python",
   "name": "python3"
  },
  "language_info": {
   "codemirror_mode": {
    "name": "ipython",
    "version": 3
   },
   "file_extension": ".py",
   "mimetype": "text/x-python",
   "name": "python",
   "nbconvert_exporter": "python",
   "pygments_lexer": "ipython3",
   "version": "3.6.3"
  }
 },
 "nbformat": 4,
 "nbformat_minor": 2
}
