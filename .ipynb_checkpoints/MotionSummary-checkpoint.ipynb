{
 "cells": [
  {
   "cell_type": "code",
   "execution_count": 1,
   "metadata": {},
   "outputs": [],
   "source": [
    "# Set study variables\n",
    "setup='Cat'\n",
    "\n",
    "if setup == 'Lucy':\n",
    "    studyhome = '/Volumes/group/iang/active/BABIES/BABIES_rest/'\n",
    "    raw_data = studyhome + '/subjDir/'\n",
    "    output_dir = studyhome + '/processed/preproc'\n",
    "    workflow_dir = studyhome + '/workflows'\n",
    "    template_brain = studyhome + '/BABIES_rest/templates/T2w_BABIES_template_2mm.nii.gz'\n",
    "    template_wm = studyhome + '/BABIES_rest/templates/BABIES_wm_mask_2mm.nii.gz'\n",
    "    template_mask = studyhome + '/BABIES_rest/templates/T2w_BABIES_template_2mm_mask.nii.gz'\n",
    "    \n",
    "elif setup =='Cat':\n",
    "    studyhome = '/Users/catcamacho/Box/SNAP/BABIES'\n",
    "    raw_data = studyhome + '/raw'\n",
    "    output_dir = studyhome + '/BABIES_rest/processed/preproc'\n",
    "    workflow_dir = studyhome + '/BABIES_rest/workflows'\n",
    "    template_brain = studyhome + '/templates/T2w_BABIES_template_2mm.nii.gz'\n",
    "    template_wm = studyhome + '/templates/BABIES_wm_mask_2mm.nii.gz'\n",
    "    template_mask = studyhome + '/templates/T2w_BABIES_template_2mm_mask.nii.gz'"
   ]
  },
  {
   "cell_type": "code",
   "execution_count": 24,
   "metadata": {},
   "outputs": [],
   "source": [
    "def summarize_motion(motion_df_file, motion_file, vols_to_censor, TR):\n",
    "    from nipype import config, logging\n",
    "    config.enable_debug_mode()\n",
    "    logging.update_logging(config)\n",
    "    from os.path import dirname, basename\n",
    "    from numpy import asarray, mean, insert, zeros, sort\n",
    "    from pandas import DataFrame, Series, read_csv\n",
    "    \n",
    "    motion_df = read_csv(motion_df_file, index_col=0)\n",
    "    \n",
    "    motion = asarray(open(motion_file).read().splitlines()).astype(float)\n",
    "    censvols = asarray(open(vols_to_censor).read().splitlines()).astype(int)\n",
    "    sec_not_censored = (len(motion)-len(censvols))*TR\n",
    "    \n",
    "    if censvols[0]>0:\n",
    "        periods_not_censored = insert(censvols,0,0)\n",
    "    else:\n",
    "        periods_not_censored = censvols\n",
    "    \n",
    "    if periods_not_censored[-1]<len(motion):\n",
    "        periods_not_censored = insert(periods_not_censored,len(periods_not_censored),len(motion))\n",
    "    \n",
    "    lengths = zeros(len(periods_not_censored)-1)\n",
    "    for a in range(0,len(lengths)):\n",
    "        lengths[a] = periods_not_censored[a+1] - periods_not_censored[a] - 1\n",
    "    \n",
    "    lengths = lengths*TR\n",
    "    \n",
    "    # sort lengths in descending order\n",
    "    lengths = sort(lengths)[::-1]\n",
    "\n",
    "    fp = dirname(motion_file)\n",
    "    subject = basename(fp)\n",
    "\n",
    "    motion_df.loc[subject] = [mean(motion),max(motion),len(censvols),len(motion),sec_not_censored,lengths]\n",
    "    motion_df.to_csv(motion_df_file)\n",
    "\n",
    "    return()\n",
    "\n",
    "from os import listdir, makedirs\n",
    "from os.path import isdir\n",
    "from pandas import DataFrame\n",
    "\n",
    "if isdir(output_dir + '/motion_summary')==False:\n",
    "    makedirs(output_dir + '/motion_summary')\n",
    "\n",
    "motion_df_file = output_dir + '/motion_summary/motionSummary.csv'\n",
    "motion_df = DataFrame(columns=['meanFD','maxFD','NumCensoredVols','totalVolumes','secondsNotCensored','lengthsNotCensored_descendingSeconds'])\n",
    "motion_df.to_csv(motion_df_file) "
   ]
  },
  {
   "cell_type": "code",
   "execution_count": 25,
   "metadata": {},
   "outputs": [],
   "source": [
    "from glob import glob\n",
    "\n",
    "motion_files = glob(output_dir + '/FD_out_metric_values/*/FD_full.txt')\n",
    "motion_files = sorted(motion_files)\n",
    "censor_files = glob(output_dir + '/vols_to_censor/*/art.preproc_func_outliers.txt')\n",
    "censor_files = sorted(censor_files)\n",
    "\n",
    "for i in range(0,len(motion_files)):\n",
    "    summarize_motion(motion_df_file, motion_files[i], censor_files[i], 2.5)"
   ]
  },
  {
   "cell_type": "code",
   "execution_count": null,
   "metadata": {},
   "outputs": [],
   "source": []
  }
 ],
 "metadata": {
  "kernelspec": {
   "display_name": "Python 3",
   "language": "python",
   "name": "python3"
  },
  "language_info": {
   "codemirror_mode": {
    "name": "ipython",
    "version": 3
   },
   "file_extension": ".py",
   "mimetype": "text/x-python",
   "name": "python",
   "nbconvert_exporter": "python",
   "pygments_lexer": "ipython3",
   "version": "3.6.3"
  }
 },
 "nbformat": 4,
 "nbformat_minor": 2
}
