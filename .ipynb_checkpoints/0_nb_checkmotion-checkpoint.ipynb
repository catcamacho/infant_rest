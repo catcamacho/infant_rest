{
 "cells": [
  {
   "cell_type": "code",
   "execution_count": null,
   "metadata": {
    "collapsed": false
   },
   "outputs": [],
   "source": [
    "#import packages\n",
    "from os import listdir\n",
    "from nipype.interfaces.io import DataSink, SelectFiles \n",
    "from nipype.interfaces.utility import IdentityInterface\n",
    "from nipype.pipeline.engine import Node, Workflow\n",
    "from nipype.interfaces.fsl.preprocess import MCFLIRT\n",
    "from nipype.interfaces.fsl import PlotMotionParams\n",
    "\n",
    "# Set study variables\n",
    "studyhome = '/Users/lucyking/Desktop/testmotion'\n",
    "subject_data = studyhome + '/BABIES_Longitudinal-T2' #path to folder containing individual subject folders\n",
    "output_dir = studyhome + '/check_motion' #path to new folder where motion plot will be exported\n",
    "workflow_dir = studyhome + '/workflows'\n",
    "subjects_list = listdir(subject_data)\n",
    "pe_list = ['0', '1']\n",
    "\n",
    "proc_cores = 4 # number of cores of processing for the workflows\n",
    "\n",
    "for file in subjects_list:\n",
    "   print (file)\n",
    "\n",
    "for pe in pe_list: \n",
    "    print (pe)"
   ]
  },
  {
   "cell_type": "code",
   "execution_count": null,
   "metadata": {
    "collapsed": false
   },
   "outputs": [],
   "source": [
    "## File handling Nodes\n",
    "\n",
    "# Identity node- select subjects and pe\n",
    "infosource = Node(IdentityInterface(fields=['subject_id', 'pe_id']),\n",
    "                     name=\"infosource\")\n",
    "infosource.iterables = [('subject_id', subjects_list),\n",
    "                        ('pe_id', pe_list)]\n",
    "\n",
    "# Data grabber- select fMRI \n",
    "templates = {'func': subject_data + '/{subject_id}/functional/rest/recon/pe{pe_id}/rest_rest_pe{pe_id}.nii.gz'}\n",
    "\n",
    "selectfiles = Node(SelectFiles(templates), name='selectfiles')\n",
    "\n",
    "# Datasink- where our select outputs will go\n",
    "datasink = Node(DataSink(), name ='datasink')\n",
    "datasink.inputs.base_directory = output_dir\n",
    "datasink.inputs.container = output_dir\n"
   ]
  },
  {
   "cell_type": "code",
   "execution_count": null,
   "metadata": {
    "collapsed": true
   },
   "outputs": [],
   "source": [
    "#Node to check motion\n",
    "motion_correct = Node(MCFLIRT(save_plots = True, \n",
    "                              mean_vol = True),\n",
    "                      name = 'motion_correct')\n",
    "\n",
    "plot_motion = Node(PlotMotionParams(in_source = \"fsl\", \n",
    "                                    plot_type = \"displacement\"), \n",
    "                   name = 'plot_motion')"
   ]
  },
  {
   "cell_type": "code",
   "execution_count": null,
   "metadata": {
    "collapsed": false
   },
   "outputs": [],
   "source": [
    "#Define workflow \n",
    "\n",
    "# workflowname.connect([(node1,node2,[('node1output','node2input')]),\n",
    "#                       (node2,node3,[('node2output','node3input')])\n",
    "#                     ])\n",
    "checkmotion_wf = Workflow(name = 'checkmotion_wf')\n",
    "\n",
    "checkmotion_wf.connect([(infosource, selectfiles,[('subject_id','subject_id')]),\n",
    "                        (infosource, selectfiles,[('pe_id','pe_id')]),\n",
    "                        (selectfiles, motion_correct, [('func', 'in_file')]),\n",
    "                        (motion_correct, plot_motion, [('par_file','in_file')]),\n",
    "                       \n",
    "                       (plot_motion, datasink, [('out_file', 'motion_plot')])])    \n"
   ]
  },
  {
   "cell_type": "code",
   "execution_count": null,
   "metadata": {
    "collapsed": false
   },
   "outputs": [],
   "source": [
    "#Run workflow\n",
    "checkmotion_wf.run('MultiProc', plugin_args={'n_procs': proc_cores})"
   ]
  },
  {
   "cell_type": "code",
   "execution_count": null,
   "metadata": {
    "collapsed": true
   },
   "outputs": [],
   "source": []
  }
 ],
 "metadata": {
  "kernelspec": {
   "display_name": "Python 2",
   "language": "python",
   "name": "python2"
  },
  "language_info": {
   "codemirror_mode": {
    "name": "ipython",
    "version": 2
   },
   "file_extension": ".py",
   "mimetype": "text/x-python",
   "name": "python",
   "nbconvert_exporter": "python",
   "pygments_lexer": "ipython2",
   "version": "2.7.11"
  }
 },
 "nbformat": 4,
 "nbformat_minor": 2
}
