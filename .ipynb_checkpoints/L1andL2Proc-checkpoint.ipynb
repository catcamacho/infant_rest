{
 "cells": [
  {
   "cell_type": "code",
   "execution_count": null,
   "metadata": {
    "collapsed": true
   },
   "outputs": [],
   "source": [
    "#import packages\n",
    "from os import listdir\n",
    "from nipype.interfaces.io import DataSink, SelectFiles # Data i/o\n",
    "from nipype.interfaces.utility import IdentityInterface, Function     # utility\n",
    "from nipype.pipeline.engine import Node, Workflow        # pypeline engine\n",
    "\n",
    "from nipype.interfaces.fsl.model import Randomise\n",
    "\n",
    "#set output file type for FSL to NIFTI\n",
    "from nipype.interfaces.fsl.preprocess import FSLCommand\n",
    "FSLCommand.set_default_output_type('NIFTI')\n",
    "\n",
    "# MATLAB setup - Specify path to current SPM and the MATLAB's default mode\n",
    "from nipype.interfaces.matlab import MatlabCommand\n",
    "MatlabCommand.set_default_paths('~/spm12')\n",
    "MatlabCommand.set_default_matlab_cmd(\"matlab -nodesktop -nosplash\")\n",
    "\n",
    "# Set study variables\n",
    "studyhome = '/Users/catcamacho/Box/BABIES'\n",
    "raw_data = studyhome + '/raw'\n",
    "output_dir = studyhome + '/processed'\n",
    "workflow_dir = studyhome + '/workflows'\n",
    "roi_dir = studyhome + '/ROIs'\n",
    "\n",
    "subjects_list = ['021-BABIES-T1','033x-BABIES-T1'] #listdir(raw_data)\n",
    "roi_files = [roi_dir + '/L_amyg_4mm.nii',roi_dir + '/R_amyg_4mm.nii']\n",
    "\n",
    "# ROIs for connectivity analysis\n",
    "Lamyg = studyhome + '/ROIs/Lamyg_4mm.nii'\n",
    "Ramyg = studyhome + '/ROIs/Ramyg_4mm.nii'\n",
    "\n",
    "template_brain = studyhome + '/templates/T2w_BABIES_template_2mm.nii'\n"
   ]
  },
  {
   "cell_type": "code",
   "execution_count": null,
   "metadata": {
    "collapsed": true
   },
   "outputs": [],
   "source": [
    "## File handling\n"
   ]
  },
  {
   "cell_type": "code",
   "execution_count": null,
   "metadata": {
    "collapsed": true
   },
   "outputs": [],
   "source": [
    "## Seed-based level 1\n",
    "\n",
    "# Extract ROI timeseries\n",
    "def pulltimeseries(roimask,func):\n",
    "    from nipype import config, logging\n",
    "    config.enable_debug_mode()\n",
    "    logging.update_logging(config)\n",
    "    from nipype.interfaces.fsl.maths import ApplyMask\n",
    "    from nibabel import load\n",
    "    from numpy import mean, std, savetxt\n",
    "    from os import path\n",
    "    \n",
    "    roimaskfile = path.basename(roimask)\n",
    "    roimaskname = roimaskfile.replace('.nii','')\n",
    "    datapath = path.dirname(func)\n",
    "    subID = datapath[-3:]\n",
    "    \n",
    "    roi = 'roi.nii'\n",
    "    am = ApplyMask()\n",
    "    am.inputs.mask_file = roimask\n",
    "    am.inputs.in_file = func\n",
    "    am.inputs.out_file = roi\n",
    "    am.run()\n",
    "\n",
    "    subnifti = load(roi)\n",
    "    subdata = subnifti.get_data()\n",
    "    roitimeseries = mean(subdata,axis=3)\n",
    "    \n",
    "    roitextfile = roimaskname + '_' + subID + '_timeseries.txt'\n",
    "    savetxt(roitextfile, roitimeseries, delimiter=' ')\n",
    "    roi_ts = path.abspath(roitextfile)\n",
    "    return(roi_ts)\n",
    "        \n",
    "pullROItimeseries = MapNode(name='pullROItimeseries',\n",
    "                            interface=Function(input_names=['roimask','func'],\n",
    "                                               output_names=['roi_ts'],\n",
    "                                               function=pulltimeseries),\n",
    "                           iterfield=['roimask'])\n",
    "\n",
    "# model ROI connectivity\n"
   ]
  },
  {
   "cell_type": "code",
   "execution_count": null,
   "metadata": {
    "collapsed": true
   },
   "outputs": [],
   "source": [
    "## Level 2\n",
    "\n",
    "# merge param estimates across all subjects per seed\n",
    "\n",
    "\n",
    "# FSL randomise for higher level analysis\n",
    "highermodel = Node(Randomise(tfce=True,\n",
    "                             raw_stats_imgs= True,\n",
    "                             design_mat=group_mat),\n",
    "                   name = 'highermodel')"
   ]
  }
 ],
 "metadata": {
  "kernelspec": {
   "display_name": "Python 2",
   "language": "python",
   "name": "python2"
  },
  "language_info": {
   "codemirror_mode": {
    "name": "ipython",
    "version": 2
   },
   "file_extension": ".py",
   "mimetype": "text/x-python",
   "name": "python",
   "nbconvert_exporter": "python",
   "pygments_lexer": "ipython2",
   "version": "2.7.11"
  }
 },
 "nbformat": 4,
 "nbformat_minor": 2
}
