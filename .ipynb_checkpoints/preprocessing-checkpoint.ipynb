{
 "cells": [
  {
   "cell_type": "code",
   "execution_count": 1,
   "metadata": {
    "collapsed": false,
    "deletable": true,
    "editable": true
   },
   "outputs": [
    {
     "name": "stderr",
     "output_type": "stream",
     "text": [
      "/usr/local/lib/python2.7/site-packages/nipy/labs/glm/glm.py:9: FutureWarning: Module nipy.labs.utils.routines deprecated, will be removed\n",
      "  from ..utils import mahalanobis\n",
      "/usr/local/lib/python2.7/site-packages/nipype/interfaces/nipy/model.py:18: FutureWarning: Module nipy.labs.glm deprecated, will be removed. Please use nipy.modalities.fmri.glm instead.\n",
      "  import nipy.labs.glm.glm as GLM\n"
     ]
    }
   ],
   "source": [
    "#import packages\n",
    "import os\n",
    "import glob\n",
    "from nipype.interfaces.io import DataGrabber, DataSink, SelectFiles # Data i/o\n",
    "from nipype.interfaces.utility import IdentityInterface     # utility\n",
    "from nipype.pipeline.engine import Node, Workflow        # pypeline engine\n",
    "from nipype.interfaces.nipy.preprocess import Trim\n",
    "\n",
    "from nipype.interfaces.fsl import SliceTimer, FSLCommand, Reorient2Std, MCFLIRT, TemporalFilter, FLIRT, maths\n",
    "from nipype.interfaces.freesurfer import Resample, Binarize\n",
    "from nipype.interfaces.ants import N4BiasFieldCorrection, Registration\n",
    "from nipype.workflows.fmri.fsl.preprocess import create_susan_smooth\n",
    "#from nipype.workflows.rsfmri.fsl.resting import \n",
    "\n",
    "#import nipype.algorithms.modelgen as model   # model generation\n",
    "#import nipype.algorithms.rapidart as ra      # artifact detection\n",
    "\n",
    "#set output file type for FSL to NIFTI\n",
    "FSLCommand.set_default_output_type('NIFTI')\n",
    "\n",
    "# Set study variables\n",
    "studyhome = '/Volumes/iang/active/BABIES/BABIES_rest/pypelineDev'\n",
    "raw_data = studyhome + '/raw'\n",
    "output_dir = studyhome + '/processed/preproc'\n",
    "#template_brain = '/Volumes/iang/active/BABIES/infant_templates/nihpd_05-08mo_brain/nihpd_0508_t2w_brain_2mm.nii'\n",
    "\n",
    "subjects_list = ['035-BABIES-T1']#os.listdir(raw_data)\n",
    "vols_to_trim = 4\n",
    "interleave = False\n",
    "TR = 2 # in seconds\n",
    "slice_dir = 3 # 1=x, 2=y, 3=z\n",
    "proc_cores = 4 # number of cores of processing for the workflows\n",
    "resampled_voxel_size = (2,2,2)\n",
    "fwhm = 4 #fwhm for smoothing with SUSAN\n",
    "mask_dilation = 1"
   ]
  },
  {
   "cell_type": "code",
   "execution_count": 2,
   "metadata": {
    "collapsed": false,
    "deletable": true,
    "editable": true
   },
   "outputs": [],
   "source": [
    "## File handling Nodes\n",
    "\n",
    "# Identity node- select subjects\n",
    "infosource = Node(IdentityInterface(fields=['subject_id','fwhm']),\n",
    "                     name=\"infosource\")\n",
    "infosource.iterables = ('subject_id', subjects_list)\n",
    "\n",
    "\n",
    "# Data grabber- select fMRI and sMRI\n",
    "templates = {'struct': raw_data + '/{subject_id}/anat/skullstripped_anat.nii',\n",
    "            'func': raw_data + '/{subject_id}/rest/rest_raw.nii'}\n",
    "selectfiles = Node(SelectFiles(templates), name='selectfiles')\n",
    "\n",
    "# Datasink- where our select outputs will go\n",
    "datasink = Node(DataSink(), name='datasink')\n",
    "datasink.inputs.base_directory = output_dir\n",
    "datasink.inputs.container = output_dir"
   ]
  },
  {
   "cell_type": "code",
   "execution_count": 8,
   "metadata": {
    "collapsed": false,
    "deletable": true,
    "editable": true
   },
   "outputs": [],
   "source": [
    "## Nodes for preprocessing\n",
    "\n",
    "# Reorient to standard space using FSL\n",
    "reorientfunc = Node(Reorient2Std(), name='reorientfunc')\n",
    "reorientstruct = Node(Reorient2Std(), name='reorientstruct')\n",
    "\n",
    "# Trim first 4 volumes using nipype \n",
    "trimvols = Node(Trim(begin_index=vols_to_trim), name='trimvols')\n",
    "\n",
    "#Slice timing correction based on interleaved acquisition using FSL\n",
    "slicetime_correct = Node(SliceTimer(interleaved=interleave, slice_direction=slice_dir,\n",
    "                                   time_repetition=TR),\n",
    "                            name='slicetime_correct')\n",
    "\n",
    "# Motion correction- MEL\n",
    "motion_correct = Node(MCFLIRT(), name='motion_correct')\n",
    "\n",
    "# Bias Correction- input image is 'input_image' output is 'output_image'\n",
    "## need ot make additional workflow\n",
    "#n4_correct = Node(N4BiasFieldCorrection(save_bias=True), \n",
    "#                  name='n4_correct')\n",
    "\n",
    "# Reslice- using MRI_convert \n",
    "reslice_struct = Node(Resample(voxel_size=resampled_voxel_size), \n",
    "                       name='reslice_struct')\n",
    "\n",
    "# Registration- using FLIRT\n",
    "# The BOLD image is 'in_file', the anat is 'reference', the output is 'out_file'\n",
    "coreg1 = Node(FLIRT(), name='coreg1')\n",
    "coreg2 = Node(FLIRT(apply_xfm=True), name = 'coreg2')\n",
    "\n",
    "# make binary mask \n",
    "# structural is the 'in_file', output is 'binary_file'\n",
    "binarize_struct = Node(Binarize(dilate=mask_dilation, min=1), \n",
    "                       name='binarize_struct')\n",
    "\n",
    "# apply the binary mask to the functional data\n",
    "# functional is 'in_file', binary mask is 'mask_file', output is 'out_file'\n",
    "mask_func = Node(maths.ApplyMask(), name='mask_func')\n",
    "\n",
    "# Spatial smoothing (FWHM 4-mm) using FSL\n",
    "# Brightness threshold should be 0.75 * the contrast between the median brain intensity and the background\n",
    "# inputs include in_files and mask_file\n",
    "smooth = create_susan_smooth()"
   ]
  },
  {
   "cell_type": "code",
   "execution_count": null,
   "metadata": {
    "collapsed": true
   },
   "outputs": [],
   "source": [
    "# Function to determine brightness threshold\n",
    "def brightthresh(func):\n",
    "    import os\n",
    "    import nibabel as nib\n",
    "    from numpy import median, where\n",
    "    \n",
    "    from nipype import config, logging\n",
    "    config.enable_debug_mode()\n",
    "    logging.update_logging(config)\n",
    "    \n",
    "    func_nifti1 = nib.load(func)\n",
    "    func_data = func_nifti1.get_data()\n",
    "    func_data = func_data.astype(float)\n",
    "    \n",
    "    brain_values = where(func_data > 0)\n",
    "    median_thresh = median(brain_values)\n",
    "    bright_thresh = 0.75 * median_thresh\n",
    "    \n",
    "    print(median_thresh)\n",
    "    print(bright_thresh)\n",
    "    "
   ]
  },
  {
   "cell_type": "code",
   "execution_count": null,
   "metadata": {
    "collapsed": true
   },
   "outputs": [],
   "source": [
    "func = \n",
    "brightthresh(func)"
   ]
  },
  {
   "cell_type": "code",
   "execution_count": 9,
   "metadata": {
    "collapsed": false,
    "deletable": true,
    "editable": true,
    "scrolled": false
   },
   "outputs": [
    {
     "name": "stdout",
     "output_type": "stream",
     "text": [
      "170524-15:23:41,847 workflow INFO:\n",
      "\t Creating detailed dot file: /Volumes/iang/active/BABIES/BABIES_rest/pypelineDev/processed/preproc/preprocwf/graph_detailed.dot\n",
      "170524-15:23:42,288 workflow INFO:\n",
      "\t Creating dot file: /Volumes/iang/active/BABIES/BABIES_rest/pypelineDev/processed/preproc/preprocwf/graph.dot\n",
      "170524-15:23:42,506 workflow INFO:\n",
      "\t ['check', 'execution', 'logging']\n",
      "170524-15:23:42,928 workflow INFO:\n",
      "\t Running in parallel.\n",
      "170524-15:23:42,931 workflow INFO:\n",
      "\t Executing: selectfiles.a0 ID: 0\n",
      "170524-15:23:42,949 workflow INFO:\n",
      "\t Executing node selectfiles.a0 in dir: /Volumes/iang/active/BABIES/BABIES_rest/pypelineDev/processed/preproc/preprocwf/_subject_id_035-BABIES-T1/selectfiles\n",
      "170524-15:23:43,395 workflow INFO:\n",
      "\t Runtime memory and threads stats unavailable\n",
      "170524-15:23:43,437 workflow INFO:\n",
      "\t [Job finished] jobname: selectfiles.a0 jobid: 0\n",
      "170524-15:23:43,441 workflow INFO:\n",
      "\t Executing: reorientstruct.a0 ID: 1\n",
      "170524-15:23:43,455 workflow INFO:\n",
      "\t [Job finished] jobname: reorientstruct.a0 jobid: 1\n",
      "170524-15:23:43,457 workflow INFO:\n",
      "\t Executing: reorientfunc.a0 ID: 4\n",
      "170524-15:23:43,469 workflow INFO:\n",
      "\t [Job finished] jobname: reorientfunc.a0 jobid: 4\n",
      "170524-15:23:43,471 workflow INFO:\n",
      "\t Executing: reslice_struct.a0 ID: 2\n",
      "170524-15:23:43,501 workflow INFO:\n",
      "\t [Job finished] jobname: reslice_struct.a0 jobid: 2\n",
      "170524-15:23:43,503 workflow INFO:\n",
      "\t Executing: trimvols.a0 ID: 5\n",
      "170524-15:23:43,515 workflow INFO:\n",
      "\t [Job finished] jobname: trimvols.a0 jobid: 5\n",
      "170524-15:23:43,518 workflow INFO:\n",
      "\t Executing: binarize_struct.a0 ID: 3\n",
      "170524-15:23:43,530 workflow INFO:\n",
      "\t [Job finished] jobname: binarize_struct.a0 jobid: 3\n",
      "170524-15:23:43,531 workflow INFO:\n",
      "\t Executing: slicetime_correct.a0 ID: 6\n",
      "170524-15:23:43,543 workflow INFO:\n",
      "\t [Job finished] jobname: slicetime_correct.a0 jobid: 6\n",
      "170524-15:23:43,546 workflow INFO:\n",
      "\t Executing: motion_correct.a0 ID: 7\n",
      "170524-15:23:43,558 workflow INFO:\n",
      "\t [Job finished] jobname: motion_correct.a0 jobid: 7\n",
      "170524-15:23:43,561 workflow INFO:\n",
      "\t Executing: coreg1.a0 ID: 8\n",
      "170524-15:23:43,603 workflow INFO:\n",
      "\t Executing node coreg1.a0 in dir: /Volumes/iang/active/BABIES/BABIES_rest/pypelineDev/processed/preproc/preprocwf/_subject_id_035-BABIES-T1/coreg1\n",
      "170524-15:23:43,710 workflow INFO:\n",
      "\t Running: flirt -in /Volumes/iang/active/BABIES/BABIES_rest/pypelineDev/processed/preproc/preprocwf/_subject_id_035-BABIES-T1/motion_correct/rest_raw_reoriented_trim_st_mcf.nii -ref /Volumes/iang/active/BABIES/BABIES_rest/pypelineDev/processed/preproc/preprocwf/_subject_id_035-BABIES-T1/reslice_struct/skullstripped_anat_reoriented_resample.nii -out rest_raw_reoriented_trim_st_mcf_flirt.nii -omat rest_raw_reoriented_trim_st_mcf_flirt.mat\n",
      "170524-15:23:54,965 workflow INFO:\n",
      "\t [Job finished] jobname: coreg1.a0 jobid: 8\n",
      "170524-15:23:54,968 workflow INFO:\n",
      "\t Executing: coreg2.a0 ID: 9\n",
      "170524-15:23:54,995 workflow INFO:\n",
      "\t Executing node coreg2.a0 in dir: /Volumes/iang/active/BABIES/BABIES_rest/pypelineDev/processed/preproc/preprocwf/_subject_id_035-BABIES-T1/coreg2\n",
      "170524-15:23:55,101 workflow INFO:\n",
      "\t Running: flirt -in /Volumes/iang/active/BABIES/BABIES_rest/pypelineDev/processed/preproc/preprocwf/_subject_id_035-BABIES-T1/motion_correct/rest_raw_reoriented_trim_st_mcf.nii -ref /Volumes/iang/active/BABIES/BABIES_rest/pypelineDev/processed/preproc/preprocwf/_subject_id_035-BABIES-T1/reslice_struct/skullstripped_anat_reoriented_resample.nii -out rest_raw_reoriented_trim_st_mcf_flirt.nii -omat rest_raw_reoriented_trim_st_mcf_flirt.mat -applyxfm -init /Volumes/iang/active/BABIES/BABIES_rest/pypelineDev/processed/preproc/preprocwf/_subject_id_035-BABIES-T1/coreg1/rest_raw_reoriented_trim_st_mcf_flirt.mat\n",
      "170524-15:41:04,799 workflow INFO:\n",
      "\t [Job finished] jobname: coreg2.a0 jobid: 9\n",
      "170524-15:41:04,801 workflow INFO:\n",
      "\t Executing: mask_func.a0 ID: 10\n",
      "170524-15:41:04,870 workflow INFO:\n",
      "\t Executing node mask_func.a0 in dir: /Volumes/iang/active/BABIES/BABIES_rest/pypelineDev/processed/preproc/preprocwf/_subject_id_035-BABIES-T1/mask_func\n",
      "170524-15:41:05,275 workflow INFO:\n",
      "\t Running: fslmaths /Volumes/iang/active/BABIES/BABIES_rest/pypelineDev/processed/preproc/preprocwf/_subject_id_035-BABIES-T1/coreg2/rest_raw_reoriented_trim_st_mcf_flirt.nii -mas /Volumes/iang/active/BABIES/BABIES_rest/pypelineDev/processed/preproc/preprocwf/_subject_id_035-BABIES-T1/binarize_struct/skullstripped_anat_reoriented_resample_thresh.nii /Volumes/iang/active/BABIES/BABIES_rest/pypelineDev/processed/preproc/preprocwf/_subject_id_035-BABIES-T1/mask_func/rest_raw_reoriented_trim_st_mcf_flirt_masked.nii\n",
      "170524-15:59:14,196 workflow INFO:\n",
      "\t [Job finished] jobname: mask_func.a0 jobid: 10\n",
      "170524-15:59:14,199 workflow INFO:\n",
      "\t Executing: datasink.a0 ID: 11\n",
      "170524-15:59:14,249 workflow INFO:\n",
      "\t Executing node datasink.a0 in dir: /Volumes/iang/active/BABIES/BABIES_rest/pypelineDev/processed/preproc/preprocwf/_subject_id_035-BABIES-T1/datasink\n",
      "170524-16:38:59,844 workflow INFO:\n",
      "\t Runtime memory and threads stats unavailable\n",
      "170524-16:38:59,884 workflow INFO:\n",
      "\t [Job finished] jobname: datasink.a0 jobid: 11\n"
     ]
    },
    {
     "data": {
      "text/plain": [
       "<networkx.classes.digraph.DiGraph at 0x114ddfdd0>"
      ]
     },
     "execution_count": 9,
     "metadata": {},
     "output_type": "execute_result"
    }
   ],
   "source": [
    "## Preprocessing Workflow\n",
    "\n",
    "# workflowname.connect([(node1,node2,[('node1output','node2input')]),\n",
    "#                    (node2,node3,[('node2output','node3input')])\n",
    "#                    ])\n",
    "\n",
    "preprocwf = Workflow(name='preprocwf')\n",
    "preprocwf.connect([(infosource,selectfiles,[('subject_id','subject_id')]), \n",
    "                   (selectfiles,reorientfunc,[('func','in_file')]),\n",
    "                   (reorientfunc,trimvols,[('out_file','in_file')]),\n",
    "                   (trimvols,slicetime_correct,[('out_file','in_file')]),\n",
    "                   (slicetime_correct,motion_correct,[('slice_time_corrected_file','in_file')]),\n",
    "                   (motion_correct,coreg1,[('out_file','in_file')]),\n",
    "                   (motion_correct,coreg2,[('out_file','in_file')]),\n",
    "                   (selectfiles,reorientstruct,[('struct','in_file')]),\n",
    "                   (reorientstruct,reslice_struct,[('out_file','in_file')]),\n",
    "                   (reslice_struct,coreg1,[('resampled_file','reference')]),\n",
    "                   (reslice_struct,coreg2,[('resampled_file','reference')]),\n",
    "                   (coreg1, coreg2,[('out_matrix_file', 'in_matrix_file')]),\n",
    "                   (reslice_struct, binarize_struct, [('resampled_file','in_file')]),\n",
    "                   (binarize_struct,mask_func,[('binary_file','mask_file')]),\n",
    "                   (coreg2,mask_func,[('out_file','in_file')]),\n",
    "                   (mask_func,datasink,[('out_file','masked_func')]),\n",
    "                   #(binarize_struct,datasink,[('binary_file','binary_struct')]),\n",
    "                   #(infosource,smooth,[('fwhm','inputnode.fwhm')]),\n",
    "                   #(binarize_struct,smooth,[('binary_file','inputnode.mask_file')]),\n",
    "                   #(coreg,smooth,[('out_file','inputnode.in_files')]),\n",
    "                   #(smooth,datasink,[('outputnode.smoothed_files','smoothed_funct')]),\n",
    "                   #(trimvols,datasink,[('out_file','trimmed')]),\n",
    "                   #(motion_correct,datasink,[('out_file','motion_corrected')]),\n",
    "                   #(reorientstruct,datasink,[('out_file','reoriented_struct')]),\n",
    "                   (reslice_struct,datasink,[('resampled_file','resliced_struct')]),\n",
    "                   #(coreg,datasink,[('warped_image','registered_func')])\n",
    "                   (coreg2,datasink,[('out_file','registered_func')])\n",
    "                  ])\n",
    "preprocwf.base_dir = output_dir\n",
    "preprocwf.write_graph(graph2use='flat')\n",
    "preprocwf.run('MultiProc', plugin_args={'n_procs': proc_cores})"
   ]
  },
  {
   "cell_type": "code",
   "execution_count": null,
   "metadata": {
    "collapsed": true,
    "deletable": true,
    "editable": true
   },
   "outputs": [],
   "source": [
    "\n",
    "\n"
   ]
  },
  {
   "cell_type": "code",
   "execution_count": null,
   "metadata": {
    "collapsed": true,
    "deletable": true,
    "editable": true
   },
   "outputs": [],
   "source": [
    "# Resting state preprocessing\n",
    "\n",
    "#create a binary mask\n",
    "\n",
    "bandpass = Node(TemporalFilter(), name='bandpass')"
   ]
  },
  {
   "cell_type": "code",
   "execution_count": null,
   "metadata": {
    "collapsed": true,
    "deletable": true,
    "editable": true
   },
   "outputs": [],
   "source": []
  },
  {
   "cell_type": "code",
   "execution_count": null,
   "metadata": {
    "collapsed": true,
    "deletable": true,
    "editable": true
   },
   "outputs": [],
   "source": []
  },
  {
   "cell_type": "code",
   "execution_count": null,
   "metadata": {
    "collapsed": true,
    "deletable": true,
    "editable": true
   },
   "outputs": [],
   "source": []
  },
  {
   "cell_type": "code",
   "execution_count": null,
   "metadata": {
    "collapsed": true,
    "deletable": true,
    "editable": true
   },
   "outputs": [],
   "source": []
  },
  {
   "cell_type": "code",
   "execution_count": null,
   "metadata": {
    "collapsed": true,
    "deletable": true,
    "editable": true
   },
   "outputs": [],
   "source": []
  },
  {
   "cell_type": "code",
   "execution_count": null,
   "metadata": {
    "collapsed": true,
    "deletable": true,
    "editable": true
   },
   "outputs": [],
   "source": []
  }
 ],
 "metadata": {
  "kernelspec": {
   "display_name": "Python 2",
   "language": "python",
   "name": "python2"
  },
  "language_info": {
   "codemirror_mode": {
    "name": "ipython",
    "version": 2
   },
   "file_extension": ".py",
   "mimetype": "text/x-python",
   "name": "python",
   "nbconvert_exporter": "python",
   "pygments_lexer": "ipython2",
   "version": "2.7.12"
  }
 },
 "nbformat": 4,
 "nbformat_minor": 2
}
