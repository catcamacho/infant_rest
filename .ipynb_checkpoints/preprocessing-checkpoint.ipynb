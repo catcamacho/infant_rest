{
 "cells": [
  {
   "cell_type": "code",
   "execution_count": 9,
   "metadata": {
    "collapsed": true,
    "deletable": true,
    "editable": true
   },
   "outputs": [],
   "source": [
    "#import packages\n",
    "import os\n",
    "import glob\n",
    "from nipype.interfaces.io import DataGrabber, DataSink, SelectFiles # Data i/o\n",
    "from nipype.interfaces.utility import IdentityInterface     # utility\n",
    "from nipype.pipeline.engine import Node         # pypeline engine\n",
    "\n",
    "import nipype.interfaces.fsl as fsl \n",
    "import nipype.algorithms.modelgen as model   # model generation\n",
    "import nipype.algorithms.rapidart as ra      # artifact detection\n",
    "\n",
    "# Set study variables\n",
    "studyhome = '/Volumes/iang/active/BABIES/BABIES_rest/pypelineDev'\n",
    "raw_data = studyhome + '/raw'\n",
    "output_dir = studyhome + '/processed/preproc'\n",
    "\n",
    "subjects_list = os.listdir(raw_data)\n"
   ]
  },
  {
   "cell_type": "code",
   "execution_count": 18,
   "metadata": {
    "collapsed": false,
    "deletable": true,
    "editable": true
   },
   "outputs": [
    {
     "ename": "TypeError",
     "evalue": "__init__() takes at least 3 arguments (2 given)",
     "output_type": "error",
     "traceback": [
      "\u001b[0;31m---------------------------------------------------------------------------\u001b[0m",
      "\u001b[0;31mTypeError\u001b[0m                                 Traceback (most recent call last)",
      "\u001b[0;32m<ipython-input-18-f116df7027cc>\u001b[0m in \u001b[0;36m<module>\u001b[0;34m()\u001b[0m\n\u001b[1;32m      8\u001b[0m \u001b[0;31m# Data grabber- select fMRI volumes versus sMRI\u001b[0m\u001b[0;34m\u001b[0m\u001b[0;34m\u001b[0m\u001b[0m\n\u001b[1;32m      9\u001b[0m selectfunc = Node(DataGrabber(infields=['subject_id'],\n\u001b[0;32m---> 10\u001b[0;31m                               outfields=['func'], name='selectfunc'))\n\u001b[0m\u001b[1;32m     11\u001b[0m \u001b[0mselectfunc\u001b[0m\u001b[0;34m.\u001b[0m\u001b[0minputs\u001b[0m\u001b[0;34m.\u001b[0m\u001b[0mtemplate\u001b[0m \u001b[0;34m=\u001b[0m \u001b[0mos\u001b[0m\u001b[0;34m.\u001b[0m\u001b[0mlistdir\u001b[0m\u001b[0;34m(\u001b[0m\u001b[0mraw_data\u001b[0m \u001b[0;34m+\u001b[0m\u001b[0;34m'%s/rest'\u001b[0m\u001b[0;34m)\u001b[0m\u001b[0;34m\u001b[0m\u001b[0m\n\u001b[1;32m     12\u001b[0m \u001b[0mselectfunc\u001b[0m\u001b[0;34m.\u001b[0m\u001b[0minputs\u001b[0m\u001b[0;34m.\u001b[0m\u001b[0mtemplate_args\u001b[0m \u001b[0;34m=\u001b[0m \u001b[0minfo\u001b[0m\u001b[0;34m\u001b[0m\u001b[0m\n",
      "\u001b[0;31mTypeError\u001b[0m: __init__() takes at least 3 arguments (2 given)"
     ]
    }
   ],
   "source": [
    "## File handling Nodes\n",
    "\n",
    "# Identity node- select subjects\n",
    "infosource = Node(IdentityInterface(fields=['subject_id']),\n",
    "                     name=\"infosource\")\n",
    "infosource.iterables = ('subject_id', subjects_list)\n",
    "\n",
    "# Data grabber- select fMRI volumes versus sMRI\n",
    "selectfunc = Node(DataGrabber(infields=['subject_id'],\n",
    "                              outfields=['func'], name='selectfunc'))\n",
    "selectfunc.inputs.template = os.listdir(raw_data +'%s/rest')\n",
    "selectfunc.inputs.template_args = info\n",
    "selectfunc.inputs.sort_filelist = True\n",
    "\n",
    "# Data grabber- select fMRI volumes versus sMRI\n",
    "templates = {'struct': raw_data + '/{subject_id}/anat/skullstripped_anat.nii'}\n",
    "selectanat = Node(SelectFiles(templates), name='selectanat')\n",
    "\n",
    "# Datasink- where our select outputs will go\n",
    "datasink = Node(DataSink(), name='datasink')\n",
    "datasink.inputs.base_directory = output_dir\n",
    "datasink.inputs.container = output_dir"
   ]
  },
  {
   "cell_type": "code",
   "execution_count": null,
   "metadata": {
    "collapsed": true
   },
   "outputs": [],
   "source": []
  }
 ],
 "metadata": {
  "kernelspec": {
   "display_name": "Python 2",
   "language": "python",
   "name": "python2"
  },
  "language_info": {
   "codemirror_mode": {
    "name": "ipython",
    "version": 2
   },
   "file_extension": ".py",
   "mimetype": "text/x-python",
   "name": "python",
   "nbconvert_exporter": "python",
   "pygments_lexer": "ipython2",
   "version": "2.7.12"
  }
 },
 "nbformat": 4,
 "nbformat_minor": 2
}
