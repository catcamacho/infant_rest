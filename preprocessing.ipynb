{
 "cells": [
  {
   "cell_type": "code",
   "execution_count": null,
   "metadata": {
    "collapsed": false,
    "deletable": true,
    "editable": true
   },
   "outputs": [],
   "source": [
    "#import packages\n",
    "import os\n",
    "import glob\n",
    "from nipype.interfaces.io import DataGrabber, DataSink, SelectFiles # Data i/o\n",
    "from nipype.interfaces.utility import IdentityInterface     # utility\n",
    "from nipype.pipeline.engine import Node, Workflow        # pypeline engine\n",
    "from nipype.interfaces.nipy.preprocess import Trim\n",
    "\n",
    "from nipype.interfaces.fsl import SliceTimer, FSLCommand, Reorient2Std\n",
    "import nipype.algorithms.modelgen as model   # model generation\n",
    "import nipype.algorithms.rapidart as ra      # artifact detection\n",
    "\n",
    "#set output file ot type for FSL to compressed NIFTI\n",
    "FSLCommand.set_default_output_type('NIFTI')\n",
    "\n",
    "# Set study variables\n",
    "studyhome = '/Volumes/iang/active/BABIES/BABIES_rest/pypelineDev'\n",
    "raw_data = studyhome + '/raw'\n",
    "output_dir = studyhome + '/processed/preproc'\n",
    "\n",
    "subjects_list = ['035-BABIES-T1']#os.listdir(raw_data)\n",
    "vols_to_trim = 4\n",
    "interleave = False\n",
    "TR = 2 # in seconds\n",
    "slice_dir = 3 # 1=x, 2=y, 3=z\n",
    "proc_cores = 4 # number of cores of processing for the workflows"
   ]
  },
  {
   "cell_type": "code",
   "execution_count": null,
   "metadata": {
    "collapsed": false,
    "deletable": true,
    "editable": true
   },
   "outputs": [],
   "source": [
    "## File handling Nodes\n",
    "\n",
    "# Identity node- select subjects\n",
    "infosource = Node(IdentityInterface(fields=['subject_id']),\n",
    "                     name=\"infosource\")\n",
    "infosource.iterables = ('subject_id', subjects_list)\n",
    "\n",
    "\n",
    "# Data grabber- select fMRI and sMRI\n",
    "templates = {'struct': raw_data + '/{subject_id}/anat/skullstripped_anat.nii',\n",
    "            'func': raw_data + '/{subject_id}/rest/rest_raw.nii'}\n",
    "selectfiles = Node(SelectFiles(templates), name='selectfiles')\n",
    "\n",
    "# Datasink- where our select outputs will go\n",
    "datasink = Node(DataSink(), name='datasink')\n",
    "datasink.inputs.base_directory = output_dir\n",
    "datasink.inputs.container = output_dir"
   ]
  },
  {
   "cell_type": "code",
   "execution_count": null,
   "metadata": {
    "collapsed": true,
    "deletable": true,
    "editable": true
   },
   "outputs": [],
   "source": [
    "## Nodes for preprocessing\n",
    "\n",
    "# Reorient to standard space\n",
    "reorientfunc = Node(Reorient2Std(), name='reorientfunc')\n",
    "reorientstruct = Node(Reorient2Std(), name='reorientstruct')\n",
    "\n",
    "# Trim first 4 volumes\n",
    "trimvols = Node(Trim(begin_index=vols_to_trim), name='trimvols')\n",
    "\n",
    "#slice timing correction based on interleaved acquisition\n",
    "slicetime_correct = Node(SliceTimer(interleaved=interleave, slice_direction=slice_dir,\n",
    "                                   time_repetition=TR),\n",
    "                            name='slicetime_correct')\n",
    "\n",
    "# Motion correction- MEL\n",
    "\n",
    "# Bias Correction- CC\n",
    "\n",
    "# Reslice- using MRI_convert \n",
    "\n",
    "# Smoothing- LK\n",
    "\n",
    "# Registration- using ANTs"
   ]
  },
  {
   "cell_type": "code",
   "execution_count": null,
   "metadata": {
    "collapsed": false,
    "scrolled": false
   },
   "outputs": [],
   "source": [
    "## Preprocessing Workflow\n",
    "\n",
    "# workflowname.connect([(node1,node2,[('node1output','node2input')]),\n",
    "#                    (node2,node3,[('node2output','node3input')])\n",
    "#                    ])\n",
    "\n",
    "preprocwf = Workflow(name='preprocwf')\n",
    "preprocwf.connect([(infosource,selectfiles,[('subject_id','subject_id')]), \n",
    "                   (selectfiles,reorientfunc,[('func','in_file')]),\n",
    "                   (reorientfunc,trimvols,[('out_file','in_file')]),\n",
    "                   (trimvols,datasink,[('out_file','trimmed')])\n",
    "                   #(reorientfunc,datasink,[('out_file','func_reorient')])\n",
    "                  ])\n",
    "preprocwf.base_dir = output_dir\n",
    "preprocwf.write_graph(graph2use='flat')\n",
    "preprocwf.run('MultiProc', plugin_args={'n_procs': proc_cores})"
   ]
  },
  {
   "cell_type": "code",
   "execution_count": null,
   "metadata": {
    "collapsed": true
   },
   "outputs": [],
   "source": []
  },
  {
   "cell_type": "code",
   "execution_count": null,
   "metadata": {
    "collapsed": true
   },
   "outputs": [],
   "source": []
  },
  {
   "cell_type": "code",
   "execution_count": null,
   "metadata": {
    "collapsed": true
   },
   "outputs": [],
   "source": []
  },
  {
   "cell_type": "code",
   "execution_count": null,
   "metadata": {
    "collapsed": true
   },
   "outputs": [],
   "source": []
  },
  {
   "cell_type": "code",
   "execution_count": null,
   "metadata": {
    "collapsed": true
   },
   "outputs": [],
   "source": []
  },
  {
   "cell_type": "code",
   "execution_count": null,
   "metadata": {
    "collapsed": true
   },
   "outputs": [],
   "source": []
  },
  {
   "cell_type": "code",
   "execution_count": null,
   "metadata": {
    "collapsed": true
   },
   "outputs": [],
   "source": []
  },
  {
   "cell_type": "code",
   "execution_count": null,
   "metadata": {
    "collapsed": true
   },
   "outputs": [],
   "source": []
  }
 ],
 "metadata": {
  "kernelspec": {
   "display_name": "Python 2",
   "language": "python",
   "name": "python2"
  },
  "language_info": {
   "codemirror_mode": {
    "name": "ipython",
    "version": 2
   },
   "file_extension": ".py",
   "mimetype": "text/x-python",
   "name": "python",
   "nbconvert_exporter": "python",
   "pygments_lexer": "ipython2",
   "version": "2.7.12"
  }
 },
 "nbformat": 4,
 "nbformat_minor": 2
}
