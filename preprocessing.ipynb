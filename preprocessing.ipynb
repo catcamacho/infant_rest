{
 "cells": [
  {
   "cell_type": "code",
   "execution_count": 11,
   "metadata": {
    "collapsed": false,
    "deletable": true,
    "editable": true
   },
   "outputs": [],
   "source": [
    "#import packages\n",
    "import os\n",
    "import glob\n",
    "from nipype.interfaces.io import DataGrabber, DataSink, SelectFiles # Data i/o\n",
    "from nipype.interfaces.utility import IdentityInterface     # utility\n",
    "from nipype.pipeline.engine import Node, Workflow        # pypeline engine\n",
    "from nipype.interfaces.nipy.preprocess import Trim\n",
    "\n",
    "from nipype.interfaces.fsl import SliceTimer, FSLCommand, Reorient2Std, MCFLIRT, TemporalFilter, FLIRT\n",
    "from nipype.interfaces.freesurfer import Resample\n",
    "from nipype.interfaces.ants import N4BiasFieldCorrection, Registration\n",
    "from nipype.workflows.fmri.fsl.preprocess import create_susan_smooth\n",
    "#from nipype.workflows.rsfmri.fsl.resting import \n",
    "\n",
    "#import nipype.algorithms.modelgen as model   # model generation\n",
    "#import nipype.algorithms.rapidart as ra      # artifact detection\n",
    "\n",
    "#set output file type for FSL to NIFTI\n",
    "FSLCommand.set_default_output_type('NIFTI')\n",
    "\n",
    "# Set study variables\n",
    "studyhome = '/Volumes/iang/active/BABIES/BABIES_rest/pypelineDev'\n",
    "raw_data = studyhome + '/raw'\n",
    "output_dir = studyhome + '/processed/preproc'\n",
    "#template_brain = '/Volumes/iang/active/BABIES/infant_templates/nihpd_05-08mo_brain/nihpd_0508_t2w_brain_2mm.nii'\n",
    "\n",
    "subjects_list = ['035-BABIES-T1']#os.listdir(raw_data)\n",
    "vols_to_trim = 4\n",
    "interleave = False\n",
    "TR = 2 # in seconds\n",
    "slice_dir = 3 # 1=x, 2=y, 3=z\n",
    "proc_cores = 4 # number of cores of processing for the workflows\n",
    "resampled_voxel_size = (2,2,2)\n",
    "fwhm = 4 #fwhm for smoothing with SUSAN"
   ]
  },
  {
   "cell_type": "code",
   "execution_count": 12,
   "metadata": {
    "collapsed": false,
    "deletable": true,
    "editable": true
   },
   "outputs": [],
   "source": [
    "## File handling Nodes\n",
    "\n",
    "# Identity node- select subjects\n",
    "infosource = Node(IdentityInterface(fields=['subject_id']),\n",
    "                     name=\"infosource\")\n",
    "infosource.iterables = ('subject_id', subjects_list)\n",
    "\n",
    "\n",
    "# Data grabber- select fMRI and sMRI\n",
    "templates = {'struct': raw_data + '/{subject_id}/anat/skullstripped_anat.nii',\n",
    "            'func': raw_data + '/{subject_id}/rest/rest_raw.nii'}\n",
    "selectfiles = Node(SelectFiles(templates), name='selectfiles')\n",
    "\n",
    "# Datasink- where our select outputs will go\n",
    "datasink = Node(DataSink(), name='datasink')\n",
    "datasink.inputs.base_directory = output_dir\n",
    "datasink.inputs.container = output_dir"
   ]
  },
  {
   "cell_type": "code",
   "execution_count": 13,
   "metadata": {
    "collapsed": false,
    "deletable": true,
    "editable": true
   },
   "outputs": [],
   "source": [
    "## Nodes for preprocessing\n",
    "\n",
    "# Reorient to standard space using FSL\n",
    "reorientfunc = Node(Reorient2Std(), name='reorientfunc')\n",
    "reorientstruct = Node(Reorient2Std(), name='reorientstruct')\n",
    "\n",
    "# Trim first 4 volumes using nipype \n",
    "trimvols = Node(Trim(begin_index=vols_to_trim), name='trimvols')\n",
    "\n",
    "#Slice timing correction based on interleaved acquisition using FSL\n",
    "slicetime_correct = Node(SliceTimer(interleaved=interleave, slice_direction=slice_dir,\n",
    "                                   time_repetition=TR),\n",
    "                            name='slicetime_correct')\n",
    "\n",
    "# Motion correction- MEL\n",
    "motion_correct = Node(MCFLIRT(), name='motion_correct')\n",
    "\n",
    "# Bias Correction- input image is 'input_image' output is 'output_image'\n",
    "## need ot make additional workflow\n",
    "#n4_correct = Node(N4BiasFieldCorrection(save_bias=True), \n",
    "#                  name='n4_correct')\n",
    "\n",
    "# Reslice- using MRI_convert \n",
    "reslice_struct = Node(Resample(voxel_size=resampled_voxel_size), \n",
    "                       name='reslice_struct')\n",
    "\n",
    "# Registration- using ANTs. \n",
    "# The BOLD image is 'moving_image', the anat is the 'fixed_image', the output is 'warped_image'.\n",
    "# coreg = Node(Registration(collapse_output_transforms=True,\n",
    "#                           initial_moving_transform_com=True,\n",
    "#                           num_threads=1,\n",
    "#                           output_inverse_warped_image=True,\n",
    "#                           output_warped_image=True,\n",
    "#                           sigma_units=['vox']*3,\n",
    "#                           transforms=['Rigid', 'Affine', 'SyN'],\n",
    "#                           terminal_output='file',\n",
    "#                           winsorize_lower_quantile=0.005,\n",
    "#                           winsorize_upper_quantile=0.995,\n",
    "#                           convergence_threshold=[1e-08, 1e-08, -0.01],\n",
    "#                           convergence_window_size=[20, 20, 5],\n",
    "#                           metric=['Mattes', 'Mattes', ['Mattes', 'CC']],\n",
    "#                           metric_weight=[1.0, 1.0, [0.5, 0.5]],\n",
    "#                           number_of_iterations=[[10000, 11110, 11110],\n",
    "#                                                 [10000, 11110, 11110],\n",
    "#                                                 [100, 30, 20]],\n",
    "#                           radius_or_number_of_bins=[32, 32, [32, 4]],\n",
    "#                           sampling_percentage=[0.3, 0.3, [None, None]],\n",
    "#                           sampling_strategy=['Regular',\n",
    "#                                              'Regular',\n",
    "#                                              [None, None]],\n",
    "#                           shrink_factors=[[3, 2, 1],\n",
    "#                                           [3, 2, 1],\n",
    "#                                           [4, 2, 1]],\n",
    "#                           smoothing_sigmas=[[4.0, 2.0, 1.0],\n",
    "#                                             [4.0, 2.0, 1.0],\n",
    "#                                             [1.0, 0.5, 0.0]],\n",
    "#                           transform_parameters=[(0.1,),\n",
    "#                                                 (0.1,),\n",
    "#                                                 (0.2, 3.0, 0.0)],\n",
    "#                           use_estimate_learning_rate_once=[True]*3,\n",
    "#                           use_histogram_matching=[False, False, False], #Set to false between different modalities\n",
    "#                           write_composite_transform=True),\n",
    "#              name='coreg')\n",
    "\n",
    "# Registration- using FLIRT\n",
    "# The BOLD image is 'in_file', the anat is 'reference', the output is 'out_file'\n",
    "coreg = Node(FLIRT(), name='coreg')"
   ]
  },
  {
   "cell_type": "code",
   "execution_count": null,
   "metadata": {
    "collapsed": true
   },
   "outputs": [],
   "source": []
  },
  {
   "cell_type": "code",
   "execution_count": 14,
   "metadata": {
    "collapsed": false,
    "deletable": true,
    "editable": true,
    "scrolled": false
   },
   "outputs": [
    {
     "name": "stdout",
     "output_type": "stream",
     "text": [
      "170523-11:59:08,127 workflow INFO:\n",
      "\t Creating detailed dot file: /Volumes/iang/active/BABIES/BABIES_rest/pypelineDev/processed/preproc/preprocwf/graph_detailed.dot\n",
      "170523-11:59:08,477 workflow INFO:\n",
      "\t Creating dot file: /Volumes/iang/active/BABIES/BABIES_rest/pypelineDev/processed/preproc/preprocwf/graph.dot\n",
      "170523-11:59:08,630 workflow INFO:\n",
      "\t ['check', 'execution', 'logging']\n",
      "170523-11:59:08,936 workflow INFO:\n",
      "\t Running in parallel.\n",
      "170523-11:59:08,939 workflow INFO:\n",
      "\t Executing: selectfiles.a0 ID: 0\n",
      "170523-11:59:08,945 workflow INFO:\n",
      "\t Executing node selectfiles.a0 in dir: /Volumes/iang/active/BABIES/BABIES_rest/pypelineDev/processed/preproc/preprocwf/_subject_id_035-BABIES-T1/selectfiles\n",
      "170523-11:59:09,84 workflow INFO:\n",
      "\t Runtime memory and threads stats unavailable\n",
      "170523-11:59:09,116 workflow INFO:\n",
      "\t [Job finished] jobname: selectfiles.a0 jobid: 0\n",
      "170523-11:59:09,118 workflow INFO:\n",
      "\t Executing: reorientfunc.a0 ID: 1\n",
      "170523-11:59:09,132 workflow INFO:\n",
      "\t Executing: reorientstruct.a0 ID: 5\n",
      "170523-11:59:09,135 workflow INFO:\n",
      "\t Executing node reorientfunc.a0 in dir: /Volumes/iang/active/BABIES/BABIES_rest/pypelineDev/processed/preproc/preprocwf/_subject_id_035-BABIES-T1/reorientfunc\n",
      "170523-11:59:09,151 workflow INFO:\n",
      "\t Executing node reorientstruct.a0 in dir: /Volumes/iang/active/BABIES/BABIES_rest/pypelineDev/processed/preproc/preprocwf/_subject_id_035-BABIES-T1/reorientstruct\n",
      "170523-11:59:09,218 workflow INFO:\n",
      "\t Running: fslreorient2std /Volumes/iang/active/BABIES/BABIES_rest/pypelineDev/raw/035-BABIES-T1/rest/rest_raw.nii /Volumes/iang/active/BABIES/BABIES_rest/pypelineDev/processed/preproc/preprocwf/_subject_id_035-BABIES-T1/reorientfunc/rest_raw_reoriented.nii\n",
      "170523-11:59:09,259 workflow INFO:\n",
      "\t Running: fslreorient2std /Volumes/iang/active/BABIES/BABIES_rest/pypelineDev/raw/035-BABIES-T1/anat/skullstripped_anat.nii /Volumes/iang/active/BABIES/BABIES_rest/pypelineDev/processed/preproc/preprocwf/_subject_id_035-BABIES-T1/reorientstruct/skullstripped_anat_reoriented.nii\n",
      "170523-11:59:14,816 workflow INFO:\n",
      "\t [Job finished] jobname: reorientstruct.a0 jobid: 5\n",
      "170523-11:59:14,819 workflow INFO:\n",
      "\t Executing: reslice_struct.a0 ID: 6\n",
      "170523-11:59:14,837 workflow INFO:\n",
      "\t Executing node reslice_struct.a0 in dir: /Volumes/iang/active/BABIES/BABIES_rest/pypelineDev/processed/preproc/preprocwf/_subject_id_035-BABIES-T1/reslice_struct\n",
      "170523-11:59:14,923 workflow INFO:\n",
      "\t Running: mri_convert -vs 2.00 2.00 2.00 -i /Volumes/iang/active/BABIES/BABIES_rest/pypelineDev/processed/preproc/preprocwf/_subject_id_035-BABIES-T1/reorientstruct/skullstripped_anat_reoriented.nii -o /Volumes/iang/active/BABIES/BABIES_rest/pypelineDev/processed/preproc/preprocwf/_subject_id_035-BABIES-T1/reslice_struct/skullstripped_anat_reoriented_resample.nii\n",
      "170523-11:59:22,207 workflow INFO:\n",
      "\t [Job finished] jobname: reslice_struct.a0 jobid: 6\n",
      "170523-11:59:45,414 workflow INFO:\n",
      "\t [Job finished] jobname: reorientfunc.a0 jobid: 1\n",
      "170523-11:59:45,416 workflow INFO:\n",
      "\t Executing: trimvols.a0 ID: 2\n",
      "170523-11:59:45,463 workflow INFO:\n",
      "\t Executing node trimvols.a0 in dir: /Volumes/iang/active/BABIES/BABIES_rest/pypelineDev/processed/preproc/preprocwf/_subject_id_035-BABIES-T1/trimvols\n",
      "170523-12:00:16,395 workflow INFO:\n",
      "\t Runtime memory and threads stats unavailable\n",
      "170523-12:00:16,430 workflow INFO:\n",
      "\t [Job finished] jobname: trimvols.a0 jobid: 2\n",
      "170523-12:00:16,433 workflow INFO:\n",
      "\t Executing: slicetime_correct.a0 ID: 3\n",
      "170523-12:00:16,452 workflow INFO:\n",
      "\t Executing node slicetime_correct.a0 in dir: /Volumes/iang/active/BABIES/BABIES_rest/pypelineDev/processed/preproc/preprocwf/_subject_id_035-BABIES-T1/slicetime_correct\n",
      "170523-12:00:16,535 workflow INFO:\n",
      "\t Running: slicetimer --in=/Volumes/iang/active/BABIES/BABIES_rest/pypelineDev/processed/preproc/preprocwf/_subject_id_035-BABIES-T1/trimvols/rest_raw_reoriented_trim.nii --out=/Volumes/iang/active/BABIES/BABIES_rest/pypelineDev/processed/preproc/preprocwf/_subject_id_035-BABIES-T1/slicetime_correct/rest_raw_reoriented_trim_st.nii --direction=3 --repeat=2.000000\n",
      "170523-12:01:18,740 workflow INFO:\n",
      "\t [Job finished] jobname: slicetime_correct.a0 jobid: 3\n",
      "170523-12:01:18,744 workflow INFO:\n",
      "\t Executing: motion_correct.a0 ID: 4\n",
      "170523-12:01:18,765 workflow INFO:\n",
      "\t Executing node motion_correct.a0 in dir: /Volumes/iang/active/BABIES/BABIES_rest/pypelineDev/processed/preproc/preprocwf/_subject_id_035-BABIES-T1/motion_correct\n",
      "170523-12:01:18,833 workflow INFO:\n",
      "\t Running: mcflirt -in /Volumes/iang/active/BABIES/BABIES_rest/pypelineDev/processed/preproc/preprocwf/_subject_id_035-BABIES-T1/slicetime_correct/rest_raw_reoriented_trim_st.nii -out /Volumes/iang/active/BABIES/BABIES_rest/pypelineDev/processed/preproc/preprocwf/_subject_id_035-BABIES-T1/motion_correct/rest_raw_reoriented_trim_st_mcf.nii\n",
      "170523-12:02:35,46 workflow INFO:\n",
      "\t [Job finished] jobname: motion_correct.a0 jobid: 4\n",
      "170523-12:02:35,48 workflow INFO:\n",
      "\t Executing: coreg.a0 ID: 7\n",
      "170523-12:02:35,95 workflow INFO:\n",
      "\t Executing node coreg.a0 in dir: /Volumes/iang/active/BABIES/BABIES_rest/pypelineDev/processed/preproc/preprocwf/_subject_id_035-BABIES-T1/coreg\n",
      "170523-12:02:35,180 workflow INFO:\n",
      "\t Running: flirt -in /Volumes/iang/active/BABIES/BABIES_rest/pypelineDev/processed/preproc/preprocwf/_subject_id_035-BABIES-T1/motion_correct/rest_raw_reoriented_trim_st_mcf.nii -ref /Volumes/iang/active/BABIES/BABIES_rest/pypelineDev/processed/preproc/preprocwf/_subject_id_035-BABIES-T1/reslice_struct/skullstripped_anat_reoriented_resample.nii -out rest_raw_reoriented_trim_st_mcf_flirt.nii -omat rest_raw_reoriented_trim_st_mcf_flirt.mat\n",
      "170523-12:02:43,602 workflow INFO:\n",
      "\t [Job finished] jobname: coreg.a0 jobid: 7\n",
      "170523-12:02:43,605 workflow INFO:\n",
      "\t Executing: datasink.a0 ID: 8\n",
      "170523-12:02:43,686 workflow INFO:\n",
      "\t Executing node datasink.a0 in dir: /Volumes/iang/active/BABIES/BABIES_rest/pypelineDev/processed/preproc/preprocwf/_subject_id_035-BABIES-T1/datasink\n",
      "170523-12:04:11,511 workflow INFO:\n",
      "\t Runtime memory and threads stats unavailable\n",
      "170523-12:04:11,535 workflow INFO:\n",
      "\t [Job finished] jobname: datasink.a0 jobid: 8\n"
     ]
    },
    {
     "data": {
      "text/plain": [
       "<networkx.classes.digraph.DiGraph at 0x10f769b50>"
      ]
     },
     "execution_count": 14,
     "metadata": {},
     "output_type": "execute_result"
    }
   ],
   "source": [
    "## Preprocessing Workflow\n",
    "\n",
    "# workflowname.connect([(node1,node2,[('node1output','node2input')]),\n",
    "#                    (node2,node3,[('node2output','node3input')])\n",
    "#                    ])\n",
    "\n",
    "preprocwf = Workflow(name='preprocwf')\n",
    "preprocwf.connect([(infosource,selectfiles,[('subject_id','subject_id')]), \n",
    "                   (selectfiles,reorientfunc,[('func','in_file')]),\n",
    "                   (reorientfunc,trimvols,[('out_file','in_file')]),\n",
    "                   (trimvols,slicetime_correct,[('out_file','in_file')]),\n",
    "                   (slicetime_correct,motion_correct,[('slice_time_corrected_file','in_file')]),\n",
    "                   #(motion_correct,coreg,[('out_file','moving_image')]),\n",
    "                   (motion_correct,coreg,[('out_file','in_file')]),\n",
    "                   (selectfiles,reorientstruct,[('struct','in_file')]),\n",
    "                   (reorientstruct,reslice_struct,[('out_file','in_file')]),\n",
    "                   #(reslice_struct,coreg,[('resampled_file','fixed_image')]),\n",
    "                   (reslice_struct,coreg,[('resampled_file','reference')]),\n",
    "                   #(trimvols,datasink,[('out_file','trimmed')]),\n",
    "                   (motion_correct,datasink,[('out_file','motion_corrected')]),\n",
    "                   (reorientstruct,datasink,[('out_file','reoriented_struct')]),\n",
    "                   (reslice_struct,datasink,[('resampled_file','resliced_struct')]),\n",
    "                   #(coreg,datasink,[('warped_image','registered_func')])\n",
    "                   (coreg,datasink,[('out_file','registered_func')])\n",
    "                  ])\n",
    "preprocwf.base_dir = output_dir\n",
    "preprocwf.write_graph(graph2use='flat')\n",
    "preprocwf.run('MultiProc', plugin_args={'n_procs': proc_cores})"
   ]
  },
  {
   "cell_type": "code",
   "execution_count": null,
   "metadata": {
    "collapsed": true,
    "deletable": true,
    "editable": true
   },
   "outputs": [],
   "source": [
    "\n",
    "\n",
    "# Spatial smoothing (FWHM 4-mm) using FSL\n",
    "# Brightness threshold should be 0.75 * the contrast between the median brain intensity and the background\n",
    "# inputs include in_files and mask_file\n",
    "smoothwf = create_susan_smooth()\n",
    "smoothwf.inputs.inputnode.fwhm=fwhm"
   ]
  },
  {
   "cell_type": "code",
   "execution_count": null,
   "metadata": {
    "collapsed": true,
    "deletable": true,
    "editable": true
   },
   "outputs": [],
   "source": [
    "# Resting state preprocessing\n",
    "\n",
    "#create a binary mask\n",
    "\n",
    "bandpass = Node(TemporalFilter(), name='bandpass')"
   ]
  },
  {
   "cell_type": "code",
   "execution_count": null,
   "metadata": {
    "collapsed": true,
    "deletable": true,
    "editable": true
   },
   "outputs": [],
   "source": []
  },
  {
   "cell_type": "code",
   "execution_count": null,
   "metadata": {
    "collapsed": true,
    "deletable": true,
    "editable": true
   },
   "outputs": [],
   "source": []
  },
  {
   "cell_type": "code",
   "execution_count": null,
   "metadata": {
    "collapsed": true,
    "deletable": true,
    "editable": true
   },
   "outputs": [],
   "source": []
  },
  {
   "cell_type": "code",
   "execution_count": null,
   "metadata": {
    "collapsed": true,
    "deletable": true,
    "editable": true
   },
   "outputs": [],
   "source": []
  },
  {
   "cell_type": "code",
   "execution_count": null,
   "metadata": {
    "collapsed": true,
    "deletable": true,
    "editable": true
   },
   "outputs": [],
   "source": []
  },
  {
   "cell_type": "code",
   "execution_count": null,
   "metadata": {
    "collapsed": true,
    "deletable": true,
    "editable": true
   },
   "outputs": [],
   "source": []
  }
 ],
 "metadata": {
  "kernelspec": {
   "display_name": "Python 2",
   "language": "python",
   "name": "python2"
  },
  "language_info": {
   "codemirror_mode": {
    "name": "ipython",
    "version": 2
   },
   "file_extension": ".py",
   "mimetype": "text/x-python",
   "name": "python",
   "nbconvert_exporter": "python",
   "pygments_lexer": "ipython2",
   "version": "2.7.12"
  }
 },
 "nbformat": 4,
 "nbformat_minor": 2
}
