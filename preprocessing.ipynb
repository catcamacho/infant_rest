{
 "cells": [
  {
   "cell_type": "code",
   "execution_count": null,
   "metadata": {
    "collapsed": false,
    "deletable": true,
    "editable": true
   },
   "outputs": [],
   "source": [
    "#import packages\n",
    "import os\n",
    "import glob\n",
    "from nipype.interfaces.io import DataGrabber, DataSink, SelectFiles # Data i/o\n",
    "from nipype.interfaces.utility import IdentityInterface     # utility\n",
    "from nipype.pipeline.engine import Node, Workflow        # pypeline engine\n",
    "from nipype.interfaces.nipy.preprocess import Trim\n",
    "\n",
    "from nipype.interfaces.fsl import SliceTimer, FSLCommand, Reorient2Std\n",
    "from nipype.interfaces.freesurfer import Resample\n",
    "from nipype.interfaces.ants import N4BiasFieldCorrection, Registration\n",
    "\n",
    "import nipype.algorithms.modelgen as model   # model generation\n",
    "import nipype.algorithms.rapidart as ra      # artifact detection\n",
    "\n",
    "#set output file ot type for FSL to compressed NIFTI\n",
    "FSLCommand.set_default_output_type('NIFTI')\n",
    "\n",
    "# Set study variables\n",
    "studyhome = '/Volumes/iang/active/BABIES/BABIES_rest/pypelineDev'\n",
    "raw_data = studyhome + '/raw'\n",
    "output_dir = studyhome + '/processed/preproc'\n",
    "template_brain = '/Volumes/iang/active/BABIES/infant_templates/nihpd_05-08mo_brain/nihpd_0508_t2w_brain_2mm.nii'\n",
    "\n",
    "subjects_list = ['035-BABIES-T1']#os.listdir(raw_data)\n",
    "vols_to_trim = 4\n",
    "interleave = False\n",
    "TR = 2 # in seconds\n",
    "slice_dir = 3 # 1=x, 2=y, 3=z\n",
    "proc_cores = 4 # number of cores of processing for the workflows\n",
    "resampled_voxel_size = (2,2,2)"
   ]
  },
  {
   "cell_type": "code",
   "execution_count": null,
   "metadata": {
    "collapsed": false,
    "deletable": true,
    "editable": true
   },
   "outputs": [],
   "source": [
    "## File handling Nodes\n",
    "\n",
    "# Identity node- select subjects\n",
    "infosource = Node(IdentityInterface(fields=['subject_id']),\n",
    "                     name=\"infosource\")\n",
    "infosource.iterables = ('subject_id', subjects_list)\n",
    "\n",
    "\n",
    "# Data grabber- select fMRI and sMRI\n",
    "templates = {'struct': raw_data + '/{subject_id}/anat/skullstripped_anat.nii',\n",
    "            'func': raw_data + '/{subject_id}/rest/rest_raw.nii'}\n",
    "selectfiles = Node(SelectFiles(templates), name='selectfiles')\n",
    "\n",
    "# Datasink- where our select outputs will go\n",
    "datasink = Node(DataSink(), name='datasink')\n",
    "datasink.inputs.base_directory = output_dir\n",
    "datasink.inputs.container = output_dir"
   ]
  },
  {
   "cell_type": "code",
   "execution_count": null,
   "metadata": {
    "collapsed": true,
    "deletable": true,
    "editable": true
   },
   "outputs": [],
   "source": [
    "## Nodes for preprocessing\n",
    "\n",
    "# Reorient to standard space\n",
    "reorientfunc = Node(Reorient2Std(), name='reorientfunc')\n",
    "reorientstruct = Node(Reorient2Std(), name='reorientstruct')\n",
    "\n",
    "# Trim first 4 volumes\n",
    "trimvols = Node(Trim(begin_index=vols_to_trim), name='trimvols')\n",
    "\n",
    "#slice timing correction based on interleaved acquisition\n",
    "slicetime_correct = Node(SliceTimer(interleaved=interleave, slice_direction=slice_dir,\n",
    "                                   time_repetition=TR),\n",
    "                            name='slicetime_correct')\n",
    "\n",
    "# Motion correction- MEL\n",
    "\n",
    "# Bias Correction- input image is 'input_image' output is 'output_image'\n",
    "n4_correct = Node(N4BiasFieldCorrection(save_bias=True), \n",
    "                  name='n4_correct')\n",
    "\n",
    "# Reslice- using MRI_convert \n",
    "reslice_struct = Node(Resample(voxel_size=resampled_voxel_size), \n",
    "                       name='reslice_struct')\n",
    "\n",
    "# Smoothing- LK\n",
    "\n",
    "# Registration- using ANTs. \n",
    "# The BOLD image is 'moving_image', the anat is the 'fixed_image', the output is 'warped_image'.\n",
    "coreg = Node(Registration(collapse_output_transforms=True,\n",
    "                          initial_moving_transform_com=True,\n",
    "                          num_threads=1,\n",
    "                          output_inverse_warped_image=True,\n",
    "                          output_warped_image=True,\n",
    "                          sigma_units=['vox']*3,\n",
    "                          transforms=['Rigid', 'Affine', 'SyN'],\n",
    "                          terminal_output='file',\n",
    "                          winsorize_lower_quantile=0.005,\n",
    "                          winsorize_upper_quantile=0.995,\n",
    "                          convergence_threshold=[1e-08, 1e-08, -0.01],\n",
    "                          convergence_window_size=[20, 20, 5],\n",
    "                          metric=['Mattes', 'Mattes', ['Mattes', 'CC']],\n",
    "                          metric_weight=[1.0, 1.0, [0.5, 0.5]],\n",
    "                          number_of_iterations=[[10000, 11110, 11110],\n",
    "                                                [10000, 11110, 11110],\n",
    "                                                [100, 30, 20]],\n",
    "                          radius_or_number_of_bins=[32, 32, [32, 4]],\n",
    "                          sampling_percentage=[0.3, 0.3, [None, None]],\n",
    "                          sampling_strategy=['Regular',\n",
    "                                             'Regular',\n",
    "                                             [None, None]],\n",
    "                          shrink_factors=[[3, 2, 1],\n",
    "                                          [3, 2, 1],\n",
    "                                          [4, 2, 1]],\n",
    "                          smoothing_sigmas=[[4.0, 2.0, 1.0],\n",
    "                                            [4.0, 2.0, 1.0],\n",
    "                                            [1.0, 0.5, 0.0]],\n",
    "                          transform_parameters=[(0.1,),\n",
    "                                                (0.1,),\n",
    "                                                (0.2, 3.0, 0.0)],\n",
    "                          use_estimate_learning_rate_once=[True]*3,\n",
    "                          use_histogram_matching=[False, False, False], #Set to false between different modalities\n",
    "                          write_composite_transform=True)\n",
    "             name='coreg')"
   ]
  },
  {
   "cell_type": "code",
   "execution_count": null,
   "metadata": {
    "collapsed": false,
    "scrolled": false
   },
   "outputs": [],
   "source": [
    "## Preprocessing Workflow\n",
    "\n",
    "# workflowname.connect([(node1,node2,[('node1output','node2input')]),\n",
    "#                    (node2,node3,[('node2output','node3input')])\n",
    "#                    ])\n",
    "\n",
    "preprocwf = Workflow(name='preprocwf')\n",
    "preprocwf.connect([(infosource,selectfiles,[('subject_id','subject_id')]), \n",
    "                   (selectfiles,reorientfunc,[('func','in_file')]),\n",
    "                   (reorientfunc,trimvols,[('out_file','in_file')]),\n",
    "                   (trimvols,datasink,[('out_file','trimmed')])\n",
    "                  ])\n",
    "preprocwf.base_dir = output_dir\n",
    "preprocwf.write_graph(graph2use='flat')\n",
    "preprocwf.run('MultiProc', plugin_args={'n_procs': proc_cores})"
   ]
  },
  {
   "cell_type": "code",
   "execution_count": null,
   "metadata": {
    "collapsed": true
   },
   "outputs": [],
   "source": []
  },
  {
   "cell_type": "code",
   "execution_count": null,
   "metadata": {
    "collapsed": true
   },
   "outputs": [],
   "source": []
  },
  {
   "cell_type": "code",
   "execution_count": null,
   "metadata": {
    "collapsed": true
   },
   "outputs": [],
   "source": []
  },
  {
   "cell_type": "code",
   "execution_count": null,
   "metadata": {
    "collapsed": true
   },
   "outputs": [],
   "source": []
  },
  {
   "cell_type": "code",
   "execution_count": null,
   "metadata": {
    "collapsed": true
   },
   "outputs": [],
   "source": []
  },
  {
   "cell_type": "code",
   "execution_count": null,
   "metadata": {
    "collapsed": true
   },
   "outputs": [],
   "source": []
  },
  {
   "cell_type": "code",
   "execution_count": null,
   "metadata": {
    "collapsed": true
   },
   "outputs": [],
   "source": []
  },
  {
   "cell_type": "code",
   "execution_count": null,
   "metadata": {
    "collapsed": true
   },
   "outputs": [],
   "source": []
  }
 ],
 "metadata": {
  "kernelspec": {
   "display_name": "Python 2",
   "language": "python",
   "name": "python2"
  },
  "language_info": {
   "codemirror_mode": {
    "name": "ipython",
    "version": 2
   },
   "file_extension": ".py",
   "mimetype": "text/x-python",
   "name": "python",
   "nbconvert_exporter": "python",
   "pygments_lexer": "ipython2",
   "version": "2.7.11"
  }
 },
 "nbformat": 4,
 "nbformat_minor": 2
}
