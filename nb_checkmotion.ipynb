{
 "cells": [
  {
   "cell_type": "code",
   "execution_count": 1,
   "metadata": {
    "collapsed": false
   },
   "outputs": [
    {
     "name": "stdout",
     "output_type": "stream",
     "text": [
      "1005-L-T2\n",
      "0\n",
      "1\n"
     ]
    }
   ],
   "source": [
    "#import packages\n",
    "from os import listdir\n",
    "from nipype.interfaces.io import DataSink, SelectFiles \n",
    "from nipype.interfaces.utility import IdentityInterface\n",
    "from nipype.pipeline.engine import Node, Workflow\n",
    "from nipype.interfaces.fsl.preprocess import MCFLIRT\n",
    "from nipype.interfaces.fsl import PlotMotionParams\n",
    "\n",
    "# Set study variables\n",
    "studyhome = '/Users/lucyking/Desktop/testmotion'\n",
    "subject_data = studyhome + '/BABIES_Longitudinal-T2' #path to folder containing individual subject folders\n",
    "output_dir = studyhome + '/check_motion' #path to new folder where motion plot will be exported\n",
    "workflow_dir = studyhome + '/workflows'\n",
    "subjects_list = listdir(subject_data)\n",
    "pe_list = ['0', '1']\n",
    "\n",
    "proc_cores = 4 # number of cores of processing for the workflows\n",
    "\n",
    "for file in subjects_list:\n",
    "   print (file)\n",
    "\n",
    "for pe in pe_list: \n",
    "    print (pe)"
   ]
  },
  {
   "cell_type": "code",
   "execution_count": 3,
   "metadata": {
    "collapsed": false
   },
   "outputs": [],
   "source": [
    "## File handling Nodes\n",
    "\n",
    "# Identity node- select subjects and pe\n",
    "infosource = Node(IdentityInterface(fields=['subject_id', 'pe_id']),\n",
    "                     name=\"infosource\")\n",
    "infosource.iterables = [('subject_id', subjects_list),\n",
    "                        ('pe_id', pe_list)]\n",
    "\n",
    "# Data grabber- select fMRI \n",
    "templates = {'func': subject_data + '/{subject_id}/functional/rest/recon/pe{pe_id}/rest_rest_pe{pe_id}.nii.gz'}\n",
    "\n",
    "selectfiles = Node(SelectFiles(templates), name='selectfiles')\n",
    "\n",
    "# Datasink- where our select outputs will go\n",
    "datasink = Node(DataSink(), name ='datasink')\n",
    "datasink.inputs.base_directory = output_dir\n",
    "datasink.inputs.container = output_dir\n"
   ]
  },
  {
   "cell_type": "code",
   "execution_count": 4,
   "metadata": {
    "collapsed": true
   },
   "outputs": [],
   "source": [
    "#Node to check motion\n",
    "motion_correct = Node(MCFLIRT(save_plots = True, \n",
    "                              mean_vol = True),\n",
    "                      name = 'motion_correct')\n",
    "\n",
    "plot_motion = Node(PlotMotionParams(in_source = \"fsl\", \n",
    "                                    plot_type = \"displacement\"), \n",
    "                   name = 'plot_motion')"
   ]
  },
  {
   "cell_type": "code",
   "execution_count": 5,
   "metadata": {
    "collapsed": false
   },
   "outputs": [],
   "source": [
    "#Define workflow \n",
    "\n",
    "# workflowname.connect([(node1,node2,[('node1output','node2input')]),\n",
    "#                       (node2,node3,[('node2output','node3input')])\n",
    "#                     ])\n",
    "checkmotion_wf = Workflow(name = 'checkmotion_wf')\n",
    "\n",
    "checkmotion_wf.connect([(infosource, selectfiles,[('subject_id','subject_id')]),\n",
    "                        (infosource, selectfiles,[('pe_id','pe_id')]),\n",
    "                        (selectfiles, motion_correct, [('func', 'in_file')]),\n",
    "                        (motion_correct, plot_motion, [('par_file','in_file')]),\n",
    "                       \n",
    "                       (plot_motion, datasink, [('out_file', 'motion_plot')])])    \n"
   ]
  },
  {
   "cell_type": "code",
   "execution_count": 6,
   "metadata": {
    "collapsed": false
   },
   "outputs": [
    {
     "name": "stdout",
     "output_type": "stream",
     "text": [
      "170818-15:57:41,495 workflow INFO:\n",
      "\t ['check', 'execution', 'logging']\n",
      "170818-15:57:41,519 workflow INFO:\n",
      "\t Running in parallel.\n",
      "170818-15:57:41,527 workflow INFO:\n",
      "\t Executing: selectfiles.a1 ID: 0\n",
      "170818-15:57:41,532 workflow INFO:\n",
      "\t Executing: selectfiles.a0 ID: 4\n",
      "170818-15:57:41,545 workflow INFO:\n",
      "\t Executing node selectfiles.a1 in dir: /var/folders/xz/l0slyxhn6sj4wdkld20vxnlh0000gn/T/tmpn1schx5i/checkmotion_wf/_pe_id_1_subject_id_1005-L-T2/selectfiles170818-15:57:41,588 workflow INFO:\n",
      "\t Executing node selectfiles.a0 in dir: /var/folders/xz/l0slyxhn6sj4wdkld20vxnlh0000gn/T/tmp_rz1cucd/checkmotion_wf/_pe_id_0_subject_id_1005-L-T2/selectfiles\n",
      "\n",
      "170818-15:57:46,650 workflow INFO:\n",
      "\t Runtime memory and threads stats unavailable\n",
      "170818-15:57:46,668 workflow INFO:\n",
      "\t [Job finished] jobname: selectfiles.a1 jobid: 0\n",
      "170818-15:57:46,672 workflow INFO:\n",
      "\t Executing: motion_correct.a1 ID: 1\n",
      "170818-15:57:46,686 workflow INFO:\n",
      "\t Runtime memory and threads stats unavailable\n",
      "170818-15:57:46,693 workflow INFO:\n",
      "\t Executing node motion_correct.a1 in dir: /var/folders/xz/l0slyxhn6sj4wdkld20vxnlh0000gn/T/tmpsmte72e4/checkmotion_wf/_pe_id_1_subject_id_1005-L-T2/motion_correct170818-15:57:46,706 workflow INFO:\n",
      "\t [Job finished] jobname: selectfiles.a0 jobid: 4\n",
      "\n",
      "170818-15:57:46,715 workflow INFO:\n",
      "\t Executing: motion_correct.a0 ID: 5\n",
      "170818-15:57:46,725 workflow INFO:\n",
      "\t Running: mcflirt -in /Users/lucyking/Desktop/testmotion/BABIES_Longitudinal-T2/1005-L-T2/functional/rest/recon/pe1/rest_rest_pe1.nii.gz -meanvol -out /private/var/folders/xz/l0slyxhn6sj4wdkld20vxnlh0000gn/T/tmpsmte72e4/checkmotion_wf/_pe_id_1_subject_id_1005-L-T2/motion_correct/rest_rest_pe1_mcf.nii.gz -plots170818-15:57:46,727 workflow INFO:\n",
      "\t Executing node motion_correct.a0 in dir: /var/folders/xz/l0slyxhn6sj4wdkld20vxnlh0000gn/T/tmpop2ugp7g/checkmotion_wf/_pe_id_0_subject_id_1005-L-T2/motion_correct\n",
      "\n",
      "170818-15:57:46,774 workflow INFO:\n",
      "\t Running: mcflirt -in /Users/lucyking/Desktop/testmotion/BABIES_Longitudinal-T2/1005-L-T2/functional/rest/recon/pe0/rest_rest_pe0.nii.gz -meanvol -out /private/var/folders/xz/l0slyxhn6sj4wdkld20vxnlh0000gn/T/tmpop2ugp7g/checkmotion_wf/_pe_id_0_subject_id_1005-L-T2/motion_correct/rest_rest_pe0_mcf.nii.gz -plots\n",
      "170818-15:58:10,31 workflow INFO:\n",
      "\t [Job finished] jobname: motion_correct.a0 jobid: 5\n",
      "170818-15:58:10,34 workflow INFO:\n",
      "\t Executing: plot_motion.a0 ID: 6\n",
      "170818-15:58:10,184 workflow INFO:\n",
      "\t Executing node plot_motion.a0 in dir: /var/folders/xz/l0slyxhn6sj4wdkld20vxnlh0000gn/T/tmpblc6hpf1/checkmotion_wf/_pe_id_0_subject_id_1005-L-T2/plot_motion\n",
      "\n",
      "170818-15:58:10,199 workflow INFO:\n",
      "\t Running: fsl_tsplot -i /private/var/folders/xz/l0slyxhn6sj4wdkld20vxnlh0000gn/T/tmpop2ugp7g/checkmotion_wf/_pe_id_0_subject_id_1005-L-T2/motion_correct/rest_rest_pe0_mcf.nii.gz.par -o /private/var/folders/xz/l0slyxhn6sj4wdkld20vxnlh0000gn/T/tmpop2ugp7g/checkmotion_wf/_pe_id_0_subject_id_1005-L-T2/motion_correct/rest_rest_pe0_mcf.nii.gz_disp.png -t 'MCFLIRT estimated mean displacement (mm)' -a abs,rel170818-15:58:15,513 workflow INFO:\n",
      "\t [Job finished] jobname: plot_motion.a0 jobid: 6\n",
      "170818-15:58:15,516 workflow INFO:\n",
      "\t Executing: datasink.a0 ID: 7\n",
      "170818-15:58:15,555 workflow INFO:\n",
      "\t Executing node datasink.a0 in dir: /var/folders/xz/l0slyxhn6sj4wdkld20vxnlh0000gn/T/tmpq7387sdd/checkmotion_wf/_pe_id_0_subject_id_1005-L-T2/datasink\n",
      "170818-15:58:20,578 workflow INFO:\n",
      "\t Runtime memory and threads stats unavailable\n",
      "170818-15:58:20,693 workflow INFO:\n",
      "\t [Job finished] jobname: datasink.a0 jobid: 7\n",
      "170818-16:06:10,4 workflow INFO:\n",
      "\t [Job finished] jobname: motion_correct.a1 jobid: 1\n",
      "170818-16:06:10,8 workflow INFO:\n",
      "\t Executing: plot_motion.a1 ID: 2\n",
      "170818-16:06:10,13 workflow INFO:\n",
      "\t Executing node plot_motion.a1 in dir: /var/folders/xz/l0slyxhn6sj4wdkld20vxnlh0000gn/T/tmp0pkh5xnu/checkmotion_wf/_pe_id_1_subject_id_1005-L-T2/plot_motion\n",
      "170818-16:06:10,25 workflow INFO:\n",
      "\t Running: fsl_tsplot -i /private/var/folders/xz/l0slyxhn6sj4wdkld20vxnlh0000gn/T/tmpsmte72e4/checkmotion_wf/_pe_id_1_subject_id_1005-L-T2/motion_correct/rest_rest_pe1_mcf.nii.gz.par -o /private/var/folders/xz/l0slyxhn6sj4wdkld20vxnlh0000gn/T/tmpsmte72e4/checkmotion_wf/_pe_id_1_subject_id_1005-L-T2/motion_correct/rest_rest_pe1_mcf.nii.gz_disp.png -t 'MCFLIRT estimated mean displacement (mm)' -a abs,rel\n",
      "170818-16:06:15,160 workflow INFO:\n",
      "\t [Job finished] jobname: plot_motion.a1 jobid: 2\n",
      "170818-16:06:15,163 workflow INFO:\n",
      "\t Executing: datasink.a1 ID: 3\n",
      "170818-16:06:15,231 workflow INFO:\n",
      "\t Executing node datasink.a1 in dir: /var/folders/xz/l0slyxhn6sj4wdkld20vxnlh0000gn/T/tmpah3vn7vj/checkmotion_wf/_pe_id_1_subject_id_1005-L-T2/datasink\n",
      "170818-16:06:20,259 workflow INFO:\n",
      "\t Runtime memory and threads stats unavailable\n",
      "170818-16:06:20,268 workflow INFO:\n",
      "\t [Job finished] jobname: datasink.a1 jobid: 3\n"
     ]
    },
    {
     "data": {
      "text/plain": [
       "<networkx.classes.digraph.DiGraph at 0x114f6cc50>"
      ]
     },
     "execution_count": 6,
     "metadata": {},
     "output_type": "execute_result"
    }
   ],
   "source": [
    "#Run workflow\n",
    "checkmotion_wf.run('MultiProc', plugin_args={'n_procs': proc_cores})"
   ]
  },
  {
   "cell_type": "code",
   "execution_count": null,
   "metadata": {
    "collapsed": true
   },
   "outputs": [],
   "source": []
  }
 ],
 "metadata": {
  "kernelspec": {
   "display_name": "Python 3",
   "language": "python",
   "name": "python3"
  },
  "language_info": {
   "codemirror_mode": {
    "name": "ipython",
    "version": 3
   },
   "file_extension": ".py",
   "mimetype": "text/x-python",
   "name": "python",
   "nbconvert_exporter": "python",
   "pygments_lexer": "ipython3",
   "version": "3.6.0"
  }
 },
 "nbformat": 4,
 "nbformat_minor": 2
}
